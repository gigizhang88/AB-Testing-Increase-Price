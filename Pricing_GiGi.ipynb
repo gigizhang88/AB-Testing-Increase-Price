{
 "cells": [
  {
   "cell_type": "code",
   "execution_count": 1,
   "metadata": {
    "collapsed": false
   },
   "outputs": [],
   "source": [
    "import pandas as pd\n",
    "import numpy as np\n",
    "import seaborn as sns\n",
    "import matplotlib.pyplot as plt\n",
    "from datetime import timedelta\n",
    "import geonamescache\n",
    "from geopy.geocoders import Nominatim\n",
    "from pygeocoder import Geocoder"
   ]
  },
  {
   "cell_type": "code",
   "execution_count": 152,
   "metadata": {
    "collapsed": true
   },
   "outputs": [],
   "source": [
    "%matplotlib inline"
   ]
  },
  {
   "cell_type": "code",
   "execution_count": 2,
   "metadata": {
    "collapsed": false
   },
   "outputs": [
    {
     "name": "stdout",
     "output_type": "stream",
     "text": [
      "316800\n"
     ]
    },
    {
     "data": {
      "text/html": [
       "<div>\n",
       "<table border=\"1\" class=\"dataframe\">\n",
       "  <thead>\n",
       "    <tr style=\"text-align: right;\">\n",
       "      <th></th>\n",
       "      <th>user_id</th>\n",
       "      <th>timestamp</th>\n",
       "      <th>source</th>\n",
       "      <th>device</th>\n",
       "      <th>operative_system</th>\n",
       "      <th>test</th>\n",
       "      <th>price</th>\n",
       "      <th>converted</th>\n",
       "    </tr>\n",
       "  </thead>\n",
       "  <tbody>\n",
       "    <tr>\n",
       "      <th>0</th>\n",
       "      <td>604839</td>\n",
       "      <td>2015-05-08 03:38:34</td>\n",
       "      <td>ads_facebook</td>\n",
       "      <td>mobile</td>\n",
       "      <td>iOS</td>\n",
       "      <td>0</td>\n",
       "      <td>39</td>\n",
       "      <td>0</td>\n",
       "    </tr>\n",
       "    <tr>\n",
       "      <th>1</th>\n",
       "      <td>624057</td>\n",
       "      <td>2015-05-10 21:08:46</td>\n",
       "      <td>seo-google</td>\n",
       "      <td>mobile</td>\n",
       "      <td>android</td>\n",
       "      <td>0</td>\n",
       "      <td>39</td>\n",
       "      <td>0</td>\n",
       "    </tr>\n",
       "    <tr>\n",
       "      <th>2</th>\n",
       "      <td>317970</td>\n",
       "      <td>2015-04-04 15:01:23</td>\n",
       "      <td>ads-bing</td>\n",
       "      <td>mobile</td>\n",
       "      <td>android</td>\n",
       "      <td>0</td>\n",
       "      <td>39</td>\n",
       "      <td>0</td>\n",
       "    </tr>\n",
       "    <tr>\n",
       "      <th>3</th>\n",
       "      <td>685636</td>\n",
       "      <td>2015-05-07 07:26:01</td>\n",
       "      <td>direct_traffic</td>\n",
       "      <td>mobile</td>\n",
       "      <td>iOS</td>\n",
       "      <td>1</td>\n",
       "      <td>59</td>\n",
       "      <td>0</td>\n",
       "    </tr>\n",
       "    <tr>\n",
       "      <th>4</th>\n",
       "      <td>820854</td>\n",
       "      <td>2015-05-24 11:04:40</td>\n",
       "      <td>ads_facebook</td>\n",
       "      <td>web</td>\n",
       "      <td>mac</td>\n",
       "      <td>0</td>\n",
       "      <td>39</td>\n",
       "      <td>0</td>\n",
       "    </tr>\n",
       "  </tbody>\n",
       "</table>\n",
       "</div>"
      ],
      "text/plain": [
       "   user_id            timestamp          source  device operative_system  \\\n",
       "0   604839  2015-05-08 03:38:34    ads_facebook  mobile              iOS   \n",
       "1   624057  2015-05-10 21:08:46      seo-google  mobile          android   \n",
       "2   317970  2015-04-04 15:01:23        ads-bing  mobile          android   \n",
       "3   685636  2015-05-07 07:26:01  direct_traffic  mobile              iOS   \n",
       "4   820854  2015-05-24 11:04:40    ads_facebook     web              mac   \n",
       "\n",
       "   test  price  converted  \n",
       "0     0     39          0  \n",
       "1     0     39          0  \n",
       "2     0     39          0  \n",
       "3     1     59          0  \n",
       "4     0     39          0  "
      ]
     },
     "execution_count": 2,
     "metadata": {},
     "output_type": "execute_result"
    }
   ],
   "source": [
    "test_df = pd.read_csv('~/grive/InsightDataScience/Pricing_Test/test_results.csv')\n",
    "print len(test_df)\n",
    "test_df.head()"
   ]
  },
  {
   "cell_type": "code",
   "execution_count": 3,
   "metadata": {
    "collapsed": false
   },
   "outputs": [
    {
     "data": {
      "text/html": [
       "<div>\n",
       "<table border=\"1\" class=\"dataframe\">\n",
       "  <thead>\n",
       "    <tr style=\"text-align: right;\">\n",
       "      <th></th>\n",
       "      <th>user_id</th>\n",
       "      <th>timestamp</th>\n",
       "      <th>source</th>\n",
       "      <th>device</th>\n",
       "      <th>operative_system</th>\n",
       "      <th>test</th>\n",
       "      <th>price</th>\n",
       "      <th>converted</th>\n",
       "      <th>time_date</th>\n",
       "    </tr>\n",
       "  </thead>\n",
       "  <tbody>\n",
       "    <tr>\n",
       "      <th>0</th>\n",
       "      <td>604839</td>\n",
       "      <td>2015-05-08 03:38:34</td>\n",
       "      <td>ads_facebook</td>\n",
       "      <td>mobile</td>\n",
       "      <td>iOS</td>\n",
       "      <td>0</td>\n",
       "      <td>39</td>\n",
       "      <td>0</td>\n",
       "      <td>2015-05-08</td>\n",
       "    </tr>\n",
       "    <tr>\n",
       "      <th>1</th>\n",
       "      <td>624057</td>\n",
       "      <td>2015-05-10 21:08:46</td>\n",
       "      <td>seo-google</td>\n",
       "      <td>mobile</td>\n",
       "      <td>android</td>\n",
       "      <td>0</td>\n",
       "      <td>39</td>\n",
       "      <td>0</td>\n",
       "      <td>2015-05-10</td>\n",
       "    </tr>\n",
       "    <tr>\n",
       "      <th>2</th>\n",
       "      <td>317970</td>\n",
       "      <td>2015-04-04 15:01:23</td>\n",
       "      <td>ads-bing</td>\n",
       "      <td>mobile</td>\n",
       "      <td>android</td>\n",
       "      <td>0</td>\n",
       "      <td>39</td>\n",
       "      <td>0</td>\n",
       "      <td>2015-04-04</td>\n",
       "    </tr>\n",
       "    <tr>\n",
       "      <th>3</th>\n",
       "      <td>685636</td>\n",
       "      <td>2015-05-07 07:26:01</td>\n",
       "      <td>direct_traffic</td>\n",
       "      <td>mobile</td>\n",
       "      <td>iOS</td>\n",
       "      <td>1</td>\n",
       "      <td>59</td>\n",
       "      <td>0</td>\n",
       "      <td>2015-05-07</td>\n",
       "    </tr>\n",
       "    <tr>\n",
       "      <th>4</th>\n",
       "      <td>820854</td>\n",
       "      <td>2015-05-24 11:04:40</td>\n",
       "      <td>ads_facebook</td>\n",
       "      <td>web</td>\n",
       "      <td>mac</td>\n",
       "      <td>0</td>\n",
       "      <td>39</td>\n",
       "      <td>0</td>\n",
       "      <td>2015-05-24</td>\n",
       "    </tr>\n",
       "  </tbody>\n",
       "</table>\n",
       "</div>"
      ],
      "text/plain": [
       "   user_id            timestamp          source  device operative_system  \\\n",
       "0   604839  2015-05-08 03:38:34    ads_facebook  mobile              iOS   \n",
       "1   624057  2015-05-10 21:08:46      seo-google  mobile          android   \n",
       "2   317970  2015-04-04 15:01:23        ads-bing  mobile          android   \n",
       "3   685636  2015-05-07 07:26:01  direct_traffic  mobile              iOS   \n",
       "4   820854  2015-05-24 11:04:40    ads_facebook     web              mac   \n",
       "\n",
       "   test  price  converted   time_date  \n",
       "0     0     39          0  2015-05-08  \n",
       "1     0     39          0  2015-05-10  \n",
       "2     0     39          0  2015-04-04  \n",
       "3     1     59          0  2015-05-07  \n",
       "4     0     39          0  2015-05-24  "
      ]
     },
     "execution_count": 3,
     "metadata": {},
     "output_type": "execute_result"
    }
   ],
   "source": [
    "'''# delete the wrong timestamp samples where min and sec are not in 0~59\n",
    "test_df['min'] = test_df['timestamp'].apply(lambda x: int(x[14:16]))\n",
    "test_df['sec'] = test_df['timestamp'].apply(lambda x: int(x[17:19]))\n",
    "test_df=test_df.drop(test_df.index[test_df['min'] > 59])\n",
    "test_df=test_df.drop(test_df.index[test_df['sec'] > 59])'''\n",
    "# ignore the wrong min and seconds.\n",
    "test_df['time_date'] = test_df['timestamp'].apply(lambda x: (x[:10]))\n",
    "test_df.head()"
   ]
  },
  {
   "cell_type": "code",
   "execution_count": 4,
   "metadata": {
    "collapsed": false
   },
   "outputs": [
    {
     "name": "stdout",
     "output_type": "stream",
     "text": [
      "90 days 00:00:00\n"
     ]
    }
   ],
   "source": [
    "# find the duration of this experiment\n",
    "days = max(pd.to_datetime(test_df['time_date']))-min(pd.to_datetime(test_df['time_date']))\n",
    "print days"
   ]
  },
  {
   "cell_type": "code",
   "execution_count": 5,
   "metadata": {
    "collapsed": false
   },
   "outputs": [
    {
     "name": "stdout",
     "output_type": "stream",
     "text": [
      "275616\n"
     ]
    },
    {
     "data": {
      "text/html": [
       "<div>\n",
       "<table border=\"1\" class=\"dataframe\">\n",
       "  <thead>\n",
       "    <tr style=\"text-align: right;\">\n",
       "      <th></th>\n",
       "      <th>user_id</th>\n",
       "      <th>city</th>\n",
       "      <th>country</th>\n",
       "      <th>lat</th>\n",
       "      <th>long</th>\n",
       "    </tr>\n",
       "  </thead>\n",
       "  <tbody>\n",
       "    <tr>\n",
       "      <th>0</th>\n",
       "      <td>510335</td>\n",
       "      <td>Peabody</td>\n",
       "      <td>USA</td>\n",
       "      <td>42.53</td>\n",
       "      <td>-70.97</td>\n",
       "    </tr>\n",
       "    <tr>\n",
       "      <th>1</th>\n",
       "      <td>89568</td>\n",
       "      <td>Reno</td>\n",
       "      <td>USA</td>\n",
       "      <td>39.54</td>\n",
       "      <td>-119.82</td>\n",
       "    </tr>\n",
       "    <tr>\n",
       "      <th>2</th>\n",
       "      <td>434134</td>\n",
       "      <td>Rialto</td>\n",
       "      <td>USA</td>\n",
       "      <td>34.11</td>\n",
       "      <td>-117.39</td>\n",
       "    </tr>\n",
       "    <tr>\n",
       "      <th>3</th>\n",
       "      <td>289769</td>\n",
       "      <td>Carson City</td>\n",
       "      <td>USA</td>\n",
       "      <td>39.15</td>\n",
       "      <td>-119.74</td>\n",
       "    </tr>\n",
       "    <tr>\n",
       "      <th>4</th>\n",
       "      <td>939586</td>\n",
       "      <td>Chicago</td>\n",
       "      <td>USA</td>\n",
       "      <td>41.84</td>\n",
       "      <td>-87.68</td>\n",
       "    </tr>\n",
       "  </tbody>\n",
       "</table>\n",
       "</div>"
      ],
      "text/plain": [
       "   user_id         city country    lat    long\n",
       "0   510335      Peabody     USA  42.53  -70.97\n",
       "1    89568         Reno     USA  39.54 -119.82\n",
       "2   434134       Rialto     USA  34.11 -117.39\n",
       "3   289769  Carson City     USA  39.15 -119.74\n",
       "4   939586      Chicago     USA  41.84  -87.68"
      ]
     },
     "execution_count": 5,
     "metadata": {},
     "output_type": "execute_result"
    }
   ],
   "source": [
    "user_df = pd.read_csv('~/grive/InsightDataScience/Pricing_Test/user_table.csv')\n",
    "print len(user_df)\n",
    "user_df.head()"
   ]
  },
  {
   "cell_type": "code",
   "execution_count": 6,
   "metadata": {
    "collapsed": false
   },
   "outputs": [
    {
     "name": "stdout",
     "output_type": "stream",
     "text": [
      "316800\n"
     ]
    },
    {
     "data": {
      "text/html": [
       "<div>\n",
       "<table border=\"1\" class=\"dataframe\">\n",
       "  <thead>\n",
       "    <tr style=\"text-align: right;\">\n",
       "      <th></th>\n",
       "      <th>user_id</th>\n",
       "      <th>timestamp</th>\n",
       "      <th>source</th>\n",
       "      <th>device</th>\n",
       "      <th>operative_system</th>\n",
       "      <th>test</th>\n",
       "      <th>price</th>\n",
       "      <th>converted</th>\n",
       "      <th>time_date</th>\n",
       "      <th>city</th>\n",
       "      <th>country</th>\n",
       "      <th>lat</th>\n",
       "      <th>long</th>\n",
       "    </tr>\n",
       "  </thead>\n",
       "  <tbody>\n",
       "    <tr>\n",
       "      <th>0</th>\n",
       "      <td>604839</td>\n",
       "      <td>2015-05-08 03:38:34</td>\n",
       "      <td>ads_facebook</td>\n",
       "      <td>mobile</td>\n",
       "      <td>iOS</td>\n",
       "      <td>0</td>\n",
       "      <td>39</td>\n",
       "      <td>0</td>\n",
       "      <td>2015-05-08</td>\n",
       "      <td>Buffalo</td>\n",
       "      <td>USA</td>\n",
       "      <td>42.89</td>\n",
       "      <td>-78.86</td>\n",
       "    </tr>\n",
       "    <tr>\n",
       "      <th>1</th>\n",
       "      <td>624057</td>\n",
       "      <td>2015-05-10 21:08:46</td>\n",
       "      <td>seo-google</td>\n",
       "      <td>mobile</td>\n",
       "      <td>android</td>\n",
       "      <td>0</td>\n",
       "      <td>39</td>\n",
       "      <td>0</td>\n",
       "      <td>2015-05-10</td>\n",
       "      <td>Lakeville</td>\n",
       "      <td>USA</td>\n",
       "      <td>44.68</td>\n",
       "      <td>-93.24</td>\n",
       "    </tr>\n",
       "    <tr>\n",
       "      <th>2</th>\n",
       "      <td>317970</td>\n",
       "      <td>2015-04-04 15:01:23</td>\n",
       "      <td>ads-bing</td>\n",
       "      <td>mobile</td>\n",
       "      <td>android</td>\n",
       "      <td>0</td>\n",
       "      <td>39</td>\n",
       "      <td>0</td>\n",
       "      <td>2015-04-04</td>\n",
       "      <td>Parma</td>\n",
       "      <td>USA</td>\n",
       "      <td>41.38</td>\n",
       "      <td>-81.73</td>\n",
       "    </tr>\n",
       "    <tr>\n",
       "      <th>3</th>\n",
       "      <td>685636</td>\n",
       "      <td>2015-05-07 07:26:01</td>\n",
       "      <td>direct_traffic</td>\n",
       "      <td>mobile</td>\n",
       "      <td>iOS</td>\n",
       "      <td>1</td>\n",
       "      <td>59</td>\n",
       "      <td>0</td>\n",
       "      <td>2015-05-07</td>\n",
       "      <td>Fayetteville</td>\n",
       "      <td>USA</td>\n",
       "      <td>35.07</td>\n",
       "      <td>-78.90</td>\n",
       "    </tr>\n",
       "    <tr>\n",
       "      <th>4</th>\n",
       "      <td>820854</td>\n",
       "      <td>2015-05-24 11:04:40</td>\n",
       "      <td>ads_facebook</td>\n",
       "      <td>web</td>\n",
       "      <td>mac</td>\n",
       "      <td>0</td>\n",
       "      <td>39</td>\n",
       "      <td>0</td>\n",
       "      <td>2015-05-24</td>\n",
       "      <td>Fishers</td>\n",
       "      <td>USA</td>\n",
       "      <td>39.95</td>\n",
       "      <td>-86.02</td>\n",
       "    </tr>\n",
       "  </tbody>\n",
       "</table>\n",
       "</div>"
      ],
      "text/plain": [
       "   user_id            timestamp          source  device operative_system  \\\n",
       "0   604839  2015-05-08 03:38:34    ads_facebook  mobile              iOS   \n",
       "1   624057  2015-05-10 21:08:46      seo-google  mobile          android   \n",
       "2   317970  2015-04-04 15:01:23        ads-bing  mobile          android   \n",
       "3   685636  2015-05-07 07:26:01  direct_traffic  mobile              iOS   \n",
       "4   820854  2015-05-24 11:04:40    ads_facebook     web              mac   \n",
       "\n",
       "   test  price  converted   time_date          city country    lat   long  \n",
       "0     0     39          0  2015-05-08       Buffalo     USA  42.89 -78.86  \n",
       "1     0     39          0  2015-05-10     Lakeville     USA  44.68 -93.24  \n",
       "2     0     39          0  2015-04-04         Parma     USA  41.38 -81.73  \n",
       "3     1     59          0  2015-05-07  Fayetteville     USA  35.07 -78.90  \n",
       "4     0     39          0  2015-05-24       Fishers     USA  39.95 -86.02  "
      ]
     },
     "execution_count": 6,
     "metadata": {},
     "output_type": "execute_result"
    }
   ],
   "source": [
    "df = test_df.merge(user_df,left_on='user_id',right_on='user_id',how='left')\n",
    "print len(df)\n",
    "df.head()"
   ]
  },
  {
   "cell_type": "code",
   "execution_count": 7,
   "metadata": {
    "collapsed": false
   },
   "outputs": [
    {
     "name": "stdout",
     "output_type": "stream",
     "text": [
      "The total user number is 316800. The number of price $39 and $59 are 202672 114128, respectively.\n",
      "The percentage of B group to A group in this AB testing is 63.97 and 36.03 percent.\n",
      "The number of users converted is 5808, which is 1.83 percent.\n"
     ]
    }
   ],
   "source": [
    "# Get the same information for the joined table for which customers information is available.\n",
    "print 'The total user number is %d. The number of price $39 and $59 are %d %d, respectively.' % (len(df), len(df.index[df['price']==39]), len(df.index[df['price']==59]))\n",
    "print 'The percentage of B group to A group in this AB testing is %.2f and %.2f percent.' % (float(len(df.index[df['price']==39]))/len(df)*100, float(len(df.index[df['price']==59]))/len(df)*100)\n",
    "print 'The number of users converted is %d, which is %.2f percent.' %(len(df.index[df['converted']==1]), float(len(df.index[df['converted']==1]))/len(df)*100)"
   ]
  },
  {
   "cell_type": "code",
   "execution_count": 8,
   "metadata": {
    "collapsed": false,
    "scrolled": true
   },
   "outputs": [
    {
     "data": {
      "text/plain": [
       "source\n",
       "ads-bing           0.072200\n",
       "ads-google         0.187434\n",
       "ads-yahoo          0.023936\n",
       "ads_facebook       0.168548\n",
       "ads_other          0.094306\n",
       "direct_traffic     0.190521\n",
       "friend_referral    0.065325\n",
       "seo-bing           0.006796\n",
       "seo-google         0.073153\n",
       "seo-other          0.029230\n",
       "seo-yahoo          0.021616\n",
       "seo_facebook       0.066935\n",
       "dtype: float64"
      ]
     },
     "execution_count": 8,
     "metadata": {},
     "output_type": "execute_result"
    }
   ],
   "source": [
    "# know how many useres per operative_system \n",
    "#df.groupby('operative_system').agg({'test':{'num_os':len}})\n",
    "df.groupby('operative_system').apply(lambda x: float(len(x))/len(df))\n",
    "df.groupby('source').apply(lambda x: float(len(x))/len(df))"
   ]
  },
  {
   "cell_type": "code",
   "execution_count": 29,
   "metadata": {
    "collapsed": false
   },
   "outputs": [
    {
     "data": {
      "text/html": [
       "<div>\n",
       "<table border=\"1\" class=\"dataframe\">\n",
       "  <thead>\n",
       "    <tr style=\"text-align: right;\">\n",
       "      <th></th>\n",
       "      <th>user_id</th>\n",
       "      <th>timestamp</th>\n",
       "      <th>source</th>\n",
       "      <th>device</th>\n",
       "      <th>operative_system</th>\n",
       "      <th>test</th>\n",
       "      <th>price</th>\n",
       "      <th>converted</th>\n",
       "      <th>time_date</th>\n",
       "      <th>city</th>\n",
       "      <th>country</th>\n",
       "      <th>lat</th>\n",
       "      <th>long</th>\n",
       "      <th>lat_lon</th>\n",
       "    </tr>\n",
       "  </thead>\n",
       "  <tbody>\n",
       "    <tr>\n",
       "      <th>0</th>\n",
       "      <td>604839</td>\n",
       "      <td>2015-05-08 03:38:34</td>\n",
       "      <td>ads_facebook</td>\n",
       "      <td>mobile</td>\n",
       "      <td>iOS</td>\n",
       "      <td>0</td>\n",
       "      <td>39</td>\n",
       "      <td>0</td>\n",
       "      <td>2015-05-08</td>\n",
       "      <td>Buffalo</td>\n",
       "      <td>USA</td>\n",
       "      <td>42.890000</td>\n",
       "      <td>-78.860000</td>\n",
       "      <td>(42.890000, -78.860000)</td>\n",
       "    </tr>\n",
       "    <tr>\n",
       "      <th>1</th>\n",
       "      <td>624057</td>\n",
       "      <td>2015-05-10 21:08:46</td>\n",
       "      <td>seo-google</td>\n",
       "      <td>mobile</td>\n",
       "      <td>android</td>\n",
       "      <td>0</td>\n",
       "      <td>39</td>\n",
       "      <td>0</td>\n",
       "      <td>2015-05-10</td>\n",
       "      <td>Lakeville</td>\n",
       "      <td>USA</td>\n",
       "      <td>44.680000</td>\n",
       "      <td>-93.240000</td>\n",
       "      <td>(44.680000, -93.240000)</td>\n",
       "    </tr>\n",
       "    <tr>\n",
       "      <th>2</th>\n",
       "      <td>317970</td>\n",
       "      <td>2015-04-04 15:01:23</td>\n",
       "      <td>ads-bing</td>\n",
       "      <td>mobile</td>\n",
       "      <td>android</td>\n",
       "      <td>0</td>\n",
       "      <td>39</td>\n",
       "      <td>0</td>\n",
       "      <td>2015-04-04</td>\n",
       "      <td>Parma</td>\n",
       "      <td>USA</td>\n",
       "      <td>41.380000</td>\n",
       "      <td>-81.730000</td>\n",
       "      <td>(41.380000, -81.730000)</td>\n",
       "    </tr>\n",
       "    <tr>\n",
       "      <th>3</th>\n",
       "      <td>685636</td>\n",
       "      <td>2015-05-07 07:26:01</td>\n",
       "      <td>direct_traffic</td>\n",
       "      <td>mobile</td>\n",
       "      <td>iOS</td>\n",
       "      <td>1</td>\n",
       "      <td>59</td>\n",
       "      <td>0</td>\n",
       "      <td>2015-05-07</td>\n",
       "      <td>Fayetteville</td>\n",
       "      <td>USA</td>\n",
       "      <td>35.070000</td>\n",
       "      <td>-78.900000</td>\n",
       "      <td>(35.070000, -78.900000)</td>\n",
       "    </tr>\n",
       "    <tr>\n",
       "      <th>4</th>\n",
       "      <td>820854</td>\n",
       "      <td>2015-05-24 11:04:40</td>\n",
       "      <td>ads_facebook</td>\n",
       "      <td>web</td>\n",
       "      <td>mac</td>\n",
       "      <td>0</td>\n",
       "      <td>39</td>\n",
       "      <td>0</td>\n",
       "      <td>2015-05-24</td>\n",
       "      <td>Fishers</td>\n",
       "      <td>USA</td>\n",
       "      <td>39.950000</td>\n",
       "      <td>-86.020000</td>\n",
       "      <td>(39.950000, -86.020000)</td>\n",
       "    </tr>\n",
       "  </tbody>\n",
       "</table>\n",
       "</div>"
      ],
      "text/plain": [
       "   user_id            timestamp          source  device operative_system  \\\n",
       "0   604839  2015-05-08 03:38:34    ads_facebook  mobile              iOS   \n",
       "1   624057  2015-05-10 21:08:46      seo-google  mobile          android   \n",
       "2   317970  2015-04-04 15:01:23        ads-bing  mobile          android   \n",
       "3   685636  2015-05-07 07:26:01  direct_traffic  mobile              iOS   \n",
       "4   820854  2015-05-24 11:04:40    ads_facebook     web              mac   \n",
       "\n",
       "   test  price  converted   time_date          city country        lat  \\\n",
       "0     0     39          0  2015-05-08       Buffalo     USA  42.890000   \n",
       "1     0     39          0  2015-05-10     Lakeville     USA  44.680000   \n",
       "2     0     39          0  2015-04-04         Parma     USA  41.380000   \n",
       "3     1     59          0  2015-05-07  Fayetteville     USA  35.070000   \n",
       "4     0     39          0  2015-05-24       Fishers     USA  39.950000   \n",
       "\n",
       "         long                  lat_lon  \n",
       "0  -78.860000  (42.890000, -78.860000)  \n",
       "1  -93.240000  (44.680000, -93.240000)  \n",
       "2  -81.730000  (41.380000, -81.730000)  \n",
       "3  -78.900000  (35.070000, -78.900000)  \n",
       "4  -86.020000  (39.950000, -86.020000)  "
      ]
     },
     "execution_count": 29,
     "metadata": {},
     "output_type": "execute_result"
    }
   ],
   "source": [
    "df['lat'] = df['lat'].apply(lambda x: format(x,'.6f'))\n",
    "df['long'] = df['long'].apply(lambda x: format(x,'.6f'))\n",
    "df['lat_lon'] = list(zip(df[\"lat\"],df[\"long\"]))\n",
    "df.head()"
   ]
  },
  {
   "cell_type": "code",
   "execution_count": 91,
   "metadata": {
    "collapsed": false
   },
   "outputs": [
    {
     "name": "stdout",
     "output_type": "stream",
     "text": [
      "True False\n"
     ]
    },
    {
     "data": {
      "text/plain": [
       "Int64Index([6, 12, 21, 38, 50, 63, 73, 75, 82, 88], dtype='int64')"
      ]
     },
     "execution_count": 91,
     "metadata": {},
     "output_type": "execute_result"
    }
   ],
   "source": [
    "print np.isnan(df['city'][6]), pd.isnull(df['city'][5])\n",
    "index = df.index[pd.isnull(df['city'])]\n",
    "len(index)\n",
    "index[:10]"
   ]
  },
  {
   "cell_type": "code",
   "execution_count": 132,
   "metadata": {
    "collapsed": false
   },
   "outputs": [
    {
     "data": {
      "text/html": [
       "<div>\n",
       "<table border=\"1\" class=\"dataframe\">\n",
       "  <thead>\n",
       "    <tr style=\"text-align: right;\">\n",
       "      <th></th>\n",
       "      <th>user_id</th>\n",
       "      <th>timestamp</th>\n",
       "      <th>source</th>\n",
       "      <th>device</th>\n",
       "      <th>operative_system</th>\n",
       "      <th>test</th>\n",
       "      <th>price</th>\n",
       "      <th>converted</th>\n",
       "      <th>time_date</th>\n",
       "      <th>city</th>\n",
       "      <th>country</th>\n",
       "      <th>lat</th>\n",
       "      <th>long</th>\n",
       "      <th>lat_lon</th>\n",
       "    </tr>\n",
       "  </thead>\n",
       "  <tbody>\n",
       "    <tr>\n",
       "      <th>0</th>\n",
       "      <td>604839</td>\n",
       "      <td>2015-05-08 03:38:34</td>\n",
       "      <td>ads_facebook</td>\n",
       "      <td>mobile</td>\n",
       "      <td>iOS</td>\n",
       "      <td>0</td>\n",
       "      <td>39</td>\n",
       "      <td>0</td>\n",
       "      <td>2015-05-08</td>\n",
       "      <td>Buffalo</td>\n",
       "      <td>USA</td>\n",
       "      <td>42.890000</td>\n",
       "      <td>-78.860000</td>\n",
       "      <td>(42.890000, -78.860000)</td>\n",
       "    </tr>\n",
       "    <tr>\n",
       "      <th>1</th>\n",
       "      <td>624057</td>\n",
       "      <td>2015-05-10 21:08:46</td>\n",
       "      <td>seo-google</td>\n",
       "      <td>mobile</td>\n",
       "      <td>android</td>\n",
       "      <td>0</td>\n",
       "      <td>39</td>\n",
       "      <td>0</td>\n",
       "      <td>2015-05-10</td>\n",
       "      <td>Lakeville</td>\n",
       "      <td>USA</td>\n",
       "      <td>44.680000</td>\n",
       "      <td>-93.240000</td>\n",
       "      <td>(44.680000, -93.240000)</td>\n",
       "    </tr>\n",
       "    <tr>\n",
       "      <th>2</th>\n",
       "      <td>317970</td>\n",
       "      <td>2015-04-04 15:01:23</td>\n",
       "      <td>ads-bing</td>\n",
       "      <td>mobile</td>\n",
       "      <td>android</td>\n",
       "      <td>0</td>\n",
       "      <td>39</td>\n",
       "      <td>0</td>\n",
       "      <td>2015-04-04</td>\n",
       "      <td>Parma</td>\n",
       "      <td>USA</td>\n",
       "      <td>41.380000</td>\n",
       "      <td>-81.730000</td>\n",
       "      <td>(41.380000, -81.730000)</td>\n",
       "    </tr>\n",
       "    <tr>\n",
       "      <th>3</th>\n",
       "      <td>685636</td>\n",
       "      <td>2015-05-07 07:26:01</td>\n",
       "      <td>direct_traffic</td>\n",
       "      <td>mobile</td>\n",
       "      <td>iOS</td>\n",
       "      <td>1</td>\n",
       "      <td>59</td>\n",
       "      <td>0</td>\n",
       "      <td>2015-05-07</td>\n",
       "      <td>Fayetteville</td>\n",
       "      <td>USA</td>\n",
       "      <td>35.070000</td>\n",
       "      <td>-78.900000</td>\n",
       "      <td>(35.070000, -78.900000)</td>\n",
       "    </tr>\n",
       "    <tr>\n",
       "      <th>4</th>\n",
       "      <td>820854</td>\n",
       "      <td>2015-05-24 11:04:40</td>\n",
       "      <td>ads_facebook</td>\n",
       "      <td>web</td>\n",
       "      <td>mac</td>\n",
       "      <td>0</td>\n",
       "      <td>39</td>\n",
       "      <td>0</td>\n",
       "      <td>2015-05-24</td>\n",
       "      <td>Fishers</td>\n",
       "      <td>USA</td>\n",
       "      <td>39.950000</td>\n",
       "      <td>-86.020000</td>\n",
       "      <td>(39.950000, -86.020000)</td>\n",
       "    </tr>\n",
       "    <tr>\n",
       "      <th>5</th>\n",
       "      <td>169971</td>\n",
       "      <td>2015-04-13 12:07:08</td>\n",
       "      <td>ads-google</td>\n",
       "      <td>mobile</td>\n",
       "      <td>iOS</td>\n",
       "      <td>0</td>\n",
       "      <td>39</td>\n",
       "      <td>0</td>\n",
       "      <td>2015-04-13</td>\n",
       "      <td>New York</td>\n",
       "      <td>USA</td>\n",
       "      <td>40.670000</td>\n",
       "      <td>-73.940000</td>\n",
       "      <td>(40.670000, -73.940000)</td>\n",
       "    </tr>\n",
       "    <tr>\n",
       "      <th>6</th>\n",
       "      <td>798371</td>\n",
       "      <td>2015-03-15 08:19:29</td>\n",
       "      <td>ads-bing</td>\n",
       "      <td>mobile</td>\n",
       "      <td>android</td>\n",
       "      <td>1</td>\n",
       "      <td>59</td>\n",
       "      <td>1</td>\n",
       "      <td>2015-03-15</td>\n",
       "      <td>East Orange</td>\n",
       "      <td>USA</td>\n",
       "      <td>40.770000</td>\n",
       "      <td>-74.210000</td>\n",
       "      <td>(40.770000, -74.210000)</td>\n",
       "    </tr>\n",
       "    <tr>\n",
       "      <th>7</th>\n",
       "      <td>447194</td>\n",
       "      <td>2015-03-28 12:28:10</td>\n",
       "      <td>ads_facebook</td>\n",
       "      <td>web</td>\n",
       "      <td>windows</td>\n",
       "      <td>1</td>\n",
       "      <td>59</td>\n",
       "      <td>0</td>\n",
       "      <td>2015-03-28</td>\n",
       "      <td>Dayton</td>\n",
       "      <td>USA</td>\n",
       "      <td>39.780000</td>\n",
       "      <td>-84.200000</td>\n",
       "      <td>(39.780000, -84.200000)</td>\n",
       "    </tr>\n",
       "    <tr>\n",
       "      <th>8</th>\n",
       "      <td>431639</td>\n",
       "      <td>2015-04-24 12:42:18</td>\n",
       "      <td>ads_facebook</td>\n",
       "      <td>web</td>\n",
       "      <td>windows</td>\n",
       "      <td>1</td>\n",
       "      <td>59</td>\n",
       "      <td>0</td>\n",
       "      <td>2015-04-24</td>\n",
       "      <td>Richmond</td>\n",
       "      <td>USA</td>\n",
       "      <td>37.530000</td>\n",
       "      <td>-77.470000</td>\n",
       "      <td>(37.530000, -77.470000)</td>\n",
       "    </tr>\n",
       "    <tr>\n",
       "      <th>9</th>\n",
       "      <td>590182</td>\n",
       "      <td>2015-04-17 13:30:04</td>\n",
       "      <td>ads-google</td>\n",
       "      <td>web</td>\n",
       "      <td>windows</td>\n",
       "      <td>0</td>\n",
       "      <td>39</td>\n",
       "      <td>0</td>\n",
       "      <td>2015-04-17</td>\n",
       "      <td>Bloomfield Township</td>\n",
       "      <td>USA</td>\n",
       "      <td>42.580000</td>\n",
       "      <td>-83.270000</td>\n",
       "      <td>(42.580000, -83.270000)</td>\n",
       "    </tr>\n",
       "  </tbody>\n",
       "</table>\n",
       "</div>"
      ],
      "text/plain": [
       "   user_id            timestamp          source  device operative_system  \\\n",
       "0   604839  2015-05-08 03:38:34    ads_facebook  mobile              iOS   \n",
       "1   624057  2015-05-10 21:08:46      seo-google  mobile          android   \n",
       "2   317970  2015-04-04 15:01:23        ads-bing  mobile          android   \n",
       "3   685636  2015-05-07 07:26:01  direct_traffic  mobile              iOS   \n",
       "4   820854  2015-05-24 11:04:40    ads_facebook     web              mac   \n",
       "5   169971  2015-04-13 12:07:08      ads-google  mobile              iOS   \n",
       "6   798371  2015-03-15 08:19:29        ads-bing  mobile          android   \n",
       "7   447194  2015-03-28 12:28:10    ads_facebook     web          windows   \n",
       "8   431639  2015-04-24 12:42:18    ads_facebook     web          windows   \n",
       "9   590182  2015-04-17 13:30:04      ads-google     web          windows   \n",
       "\n",
       "   test  price  converted   time_date                 city country        lat  \\\n",
       "0     0     39          0  2015-05-08              Buffalo     USA  42.890000   \n",
       "1     0     39          0  2015-05-10            Lakeville     USA  44.680000   \n",
       "2     0     39          0  2015-04-04                Parma     USA  41.380000   \n",
       "3     1     59          0  2015-05-07         Fayetteville     USA  35.070000   \n",
       "4     0     39          0  2015-05-24              Fishers     USA  39.950000   \n",
       "5     0     39          0  2015-04-13             New York     USA  40.670000   \n",
       "6     1     59          1  2015-03-15          East Orange     USA  40.770000   \n",
       "7     1     59          0  2015-03-28               Dayton     USA  39.780000   \n",
       "8     1     59          0  2015-04-24             Richmond     USA  37.530000   \n",
       "9     0     39          0  2015-04-17  Bloomfield Township     USA  42.580000   \n",
       "\n",
       "         long                  lat_lon  \n",
       "0  -78.860000  (42.890000, -78.860000)  \n",
       "1  -93.240000  (44.680000, -93.240000)  \n",
       "2  -81.730000  (41.380000, -81.730000)  \n",
       "3  -78.900000  (35.070000, -78.900000)  \n",
       "4  -86.020000  (39.950000, -86.020000)  \n",
       "5  -73.940000  (40.670000, -73.940000)  \n",
       "6  -74.210000  (40.770000, -74.210000)  \n",
       "7  -84.200000  (39.780000, -84.200000)  \n",
       "8  -77.470000  (37.530000, -77.470000)  \n",
       "9  -83.270000  (42.580000, -83.270000)  "
      ]
     },
     "execution_count": 132,
     "metadata": {},
     "output_type": "execute_result"
    }
   ],
   "source": [
    "df_cus_info = df.drop(index,axis=0)\n",
    "df_cus_info = df_cus_info.reset_index(drop=True)\n",
    "#df_cus_info.set_index([range(len(df_cus_info))])\n",
    "df_cus_info[:10]\n",
    " # same as user table length, indicating there are no multiple clicks for the same user. should use inner join"
   ]
  },
  {
   "cell_type": "code",
   "execution_count": 137,
   "metadata": {
    "collapsed": false,
    "scrolled": true
   },
   "outputs": [
    {
     "name": "stdout",
     "output_type": "stream",
     "text": [
      "New York\n",
      "[u'New York', u'Minnesota', u'Ohio', u'North Carolina', u'Indiana', u'New York', u'New Jersey', u'Ohio', u'Virginia', u'Michigan'] 9\n"
     ]
    }
   ],
   "source": [
    "loc = Nominatim()\n",
    "location = loc.reverse(df_cus_info['lat_lon'][0])\n",
    "print location.raw['address']['state']\n",
    "states=[]\n",
    "n=10\n",
    "for i in range(n):\n",
    "    states.append(loc.reverse(df_cus_info['lat_lon'][i]).raw['address']['state']) #GeocoderQueryError: HTTP Error 400: Bad Request\n",
    "print states,i\n",
    "# timeout, service not available\n",
    "#df_cus_info['state'] = df_cus_info['lat_lon'].apply(lambda x: loc.reverse(x).raw['address']['state'])\n",
    "# The following code returns error with no results for some coordinates, can't apply across column\n",
    "#df['state'] = df['lat_lon'].apply(lambda x: Geocoder.reverse_geocode(float(x[0]),float(x[1])).administrative_area_level_1)\n",
    "#df_cus_info.head()"
   ]
  },
  {
   "cell_type": "code",
   "execution_count": 134,
   "metadata": {
    "collapsed": false
   },
   "outputs": [
    {
     "ename": "KeyError",
     "evalue": "'Bloomfield Township'",
     "output_type": "error",
     "traceback": [
      "\u001b[1;31m---------------------------------------------------------------------------\u001b[0m",
      "\u001b[1;31mKeyError\u001b[0m                                  Traceback (most recent call last)",
      "\u001b[1;32m<ipython-input-134-a5ed4e64db4b>\u001b[0m in \u001b[0;36m<module>\u001b[1;34m()\u001b[0m\n\u001b[0;32m      1\u001b[0m \u001b[1;32mfrom\u001b[0m \u001b[0mcity_to_state\u001b[0m \u001b[1;32mimport\u001b[0m \u001b[0mcity_to_state_dict\u001b[0m\u001b[1;33m\u001b[0m\u001b[0m\n\u001b[1;32m----> 2\u001b[1;33m \u001b[0mdf_cus_info\u001b[0m\u001b[1;33m[\u001b[0m\u001b[1;34m'state'\u001b[0m\u001b[1;33m]\u001b[0m \u001b[1;33m=\u001b[0m \u001b[0mdf_cus_info\u001b[0m\u001b[1;33m[\u001b[0m\u001b[1;34m'city'\u001b[0m\u001b[1;33m]\u001b[0m\u001b[1;33m.\u001b[0m\u001b[0mapply\u001b[0m\u001b[1;33m(\u001b[0m\u001b[1;32mlambda\u001b[0m \u001b[0mx\u001b[0m\u001b[1;33m:\u001b[0m \u001b[0mcity_to_state_dict\u001b[0m\u001b[1;33m[\u001b[0m\u001b[0mx\u001b[0m\u001b[1;33m]\u001b[0m\u001b[1;33m)\u001b[0m\u001b[1;33m\u001b[0m\u001b[0m\n\u001b[0m\u001b[0;32m      3\u001b[0m \u001b[0mdf_cus_info\u001b[0m\u001b[1;33m.\u001b[0m\u001b[0mhead\u001b[0m\u001b[1;33m(\u001b[0m\u001b[1;33m)\u001b[0m\u001b[1;33m\u001b[0m\u001b[0m\n",
      "\u001b[1;32m/home/gigi/anaconda2/lib/python2.7/site-packages/pandas/core/series.pyc\u001b[0m in \u001b[0;36mapply\u001b[1;34m(self, func, convert_dtype, args, **kwds)\u001b[0m\n\u001b[0;32m   2218\u001b[0m         \u001b[1;32melse\u001b[0m\u001b[1;33m:\u001b[0m\u001b[1;33m\u001b[0m\u001b[0m\n\u001b[0;32m   2219\u001b[0m             \u001b[0mvalues\u001b[0m \u001b[1;33m=\u001b[0m \u001b[0mself\u001b[0m\u001b[1;33m.\u001b[0m\u001b[0masobject\u001b[0m\u001b[1;33m\u001b[0m\u001b[0m\n\u001b[1;32m-> 2220\u001b[1;33m             \u001b[0mmapped\u001b[0m \u001b[1;33m=\u001b[0m \u001b[0mlib\u001b[0m\u001b[1;33m.\u001b[0m\u001b[0mmap_infer\u001b[0m\u001b[1;33m(\u001b[0m\u001b[0mvalues\u001b[0m\u001b[1;33m,\u001b[0m \u001b[0mf\u001b[0m\u001b[1;33m,\u001b[0m \u001b[0mconvert\u001b[0m\u001b[1;33m=\u001b[0m\u001b[0mconvert_dtype\u001b[0m\u001b[1;33m)\u001b[0m\u001b[1;33m\u001b[0m\u001b[0m\n\u001b[0m\u001b[0;32m   2221\u001b[0m \u001b[1;33m\u001b[0m\u001b[0m\n\u001b[0;32m   2222\u001b[0m         \u001b[1;32mif\u001b[0m \u001b[0mlen\u001b[0m\u001b[1;33m(\u001b[0m\u001b[0mmapped\u001b[0m\u001b[1;33m)\u001b[0m \u001b[1;32mand\u001b[0m \u001b[0misinstance\u001b[0m\u001b[1;33m(\u001b[0m\u001b[0mmapped\u001b[0m\u001b[1;33m[\u001b[0m\u001b[1;36m0\u001b[0m\u001b[1;33m]\u001b[0m\u001b[1;33m,\u001b[0m \u001b[0mSeries\u001b[0m\u001b[1;33m)\u001b[0m\u001b[1;33m:\u001b[0m\u001b[1;33m\u001b[0m\u001b[0m\n",
      "\u001b[1;32mpandas/src/inference.pyx\u001b[0m in \u001b[0;36mpandas.lib.map_infer (pandas/lib.c:62658)\u001b[1;34m()\u001b[0m\n",
      "\u001b[1;32m<ipython-input-134-a5ed4e64db4b>\u001b[0m in \u001b[0;36m<lambda>\u001b[1;34m(x)\u001b[0m\n\u001b[0;32m      1\u001b[0m \u001b[1;32mfrom\u001b[0m \u001b[0mcity_to_state\u001b[0m \u001b[1;32mimport\u001b[0m \u001b[0mcity_to_state_dict\u001b[0m\u001b[1;33m\u001b[0m\u001b[0m\n\u001b[1;32m----> 2\u001b[1;33m \u001b[0mdf_cus_info\u001b[0m\u001b[1;33m[\u001b[0m\u001b[1;34m'state'\u001b[0m\u001b[1;33m]\u001b[0m \u001b[1;33m=\u001b[0m \u001b[0mdf_cus_info\u001b[0m\u001b[1;33m[\u001b[0m\u001b[1;34m'city'\u001b[0m\u001b[1;33m]\u001b[0m\u001b[1;33m.\u001b[0m\u001b[0mapply\u001b[0m\u001b[1;33m(\u001b[0m\u001b[1;32mlambda\u001b[0m \u001b[0mx\u001b[0m\u001b[1;33m:\u001b[0m \u001b[0mcity_to_state_dict\u001b[0m\u001b[1;33m[\u001b[0m\u001b[0mx\u001b[0m\u001b[1;33m]\u001b[0m\u001b[1;33m)\u001b[0m\u001b[1;33m\u001b[0m\u001b[0m\n\u001b[0m\u001b[0;32m      3\u001b[0m \u001b[0mdf_cus_info\u001b[0m\u001b[1;33m.\u001b[0m\u001b[0mhead\u001b[0m\u001b[1;33m(\u001b[0m\u001b[1;33m)\u001b[0m\u001b[1;33m\u001b[0m\u001b[0m\n",
      "\u001b[1;31mKeyError\u001b[0m: 'Bloomfield Township'"
     ]
    }
   ],
   "source": [
    "#from city_to_state import city_to_state_dict\n",
    "#df_cus_info['state'] = df_cus_info['city'].apply(lambda x: city_to_state_dict[x])\n",
    "#df_cus_info.head()"
   ]
  },
  {
   "cell_type": "code",
   "execution_count": 207,
   "metadata": {
    "collapsed": false,
    "scrolled": true
   },
   "outputs": [
    {
     "name": "stdout",
     "output_type": "stream",
     "text": [
      "The number of users converted in A test group is 4031, which is 1.99 percent.\n",
      "The number of users converted in B test group is 1777, which is 1.56 percent.\n",
      "The increased revenue by increasing price from 39 to 59 dollars is 16315.98 dollars and 18.43 percent.\n"
     ]
    }
   ],
   "source": [
    "df_A = df[df['price']==39]\n",
    "df_B = df[df['price']==59]\n",
    "conv_39=float(len(df_A.index[df_A['converted']==1]))/len(df_A)\n",
    "conv_59=float(len(df_B.index[df_B['converted']==1]))/len(df_B)\n",
    "print 'The number of users converted in A test group is %d, which is %.2f percent.' %(len(df_A.index[df_A['converted']==1]), float(len(df_A.index[df_A['converted']==1]))/len(df_A)*100)\n",
    "print 'The number of users converted in B test group is %d, which is %.2f percent.' %(len(df_B.index[df_B['converted']==1]), float(len(df_B.index[df_B['converted']==1]))/len(df_B)*100)\n",
    "rev_delta = len(df_B.index[df_B['converted']==1])*59-(float(len(df_A.index[df_A['converted']==1]))/len(df_A)*len(df_B))*39\n",
    "rev_percent = rev_delta/((float(len(df_A.index[df_A['converted']==1])))/len(df_A)*len(df_B)*39)\n",
    "print 'The increased revenue by increasing price from 39 to 59 dollars is %.2f dollars and %.2f percent.' %  (rev_delta, rev_percent*100)"
   ]
  },
  {
   "cell_type": "code",
   "execution_count": 212,
   "metadata": {
    "collapsed": false
   },
   "outputs": [
    {
     "name": "stdout",
     "output_type": "stream",
     "text": [
      "The optimal price to generate the optimal revenue is 65.55 dollars.\n"
     ]
    }
   ],
   "source": [
    "# The equation to calculate optimal price is the gradient of X*(p*(59-X)+q*(X-39))/20, p is the conversion rate for $39\n",
    "# and q is the conversion rate for $59. X = (59p-39q)/2(q-p)\n",
    "optimal_price = (59*conv_39-39*conv_59)/2/(conv_39-conv_59)\n",
    "print 'The optimal price to generate the optimal revenue is %.2f dollars.' % optimal_price"
   ]
  },
  {
   "cell_type": "code",
   "execution_count": 185,
   "metadata": {
    "collapsed": false
   },
   "outputs": [
    {
     "data": {
      "text/html": [
       "<div>\n",
       "<table border=\"1\" class=\"dataframe\">\n",
       "  <thead>\n",
       "    <tr>\n",
       "      <th></th>\n",
       "      <th colspan=\"3\" halign=\"left\">test</th>\n",
       "      <th colspan=\"2\" halign=\"left\">converted</th>\n",
       "    </tr>\n",
       "    <tr>\n",
       "      <th></th>\n",
       "      <th>sum</th>\n",
       "      <th>len</th>\n",
       "      <th>&lt;lambda&gt;</th>\n",
       "      <th>sum</th>\n",
       "      <th>&lt;lambda&gt;</th>\n",
       "    </tr>\n",
       "    <tr>\n",
       "      <th>source</th>\n",
       "      <th></th>\n",
       "      <th></th>\n",
       "      <th></th>\n",
       "      <th></th>\n",
       "      <th></th>\n",
       "    </tr>\n",
       "  </thead>\n",
       "  <tbody>\n",
       "    <tr>\n",
       "      <th>ads-bing</th>\n",
       "      <td>8264</td>\n",
       "      <td>22873</td>\n",
       "      <td>0.361299</td>\n",
       "      <td>274</td>\n",
       "      <td>0.011979</td>\n",
       "    </tr>\n",
       "    <tr>\n",
       "      <th>ads-google</th>\n",
       "      <td>21515</td>\n",
       "      <td>59379</td>\n",
       "      <td>0.362333</td>\n",
       "      <td>1276</td>\n",
       "      <td>0.021489</td>\n",
       "    </tr>\n",
       "    <tr>\n",
       "      <th>ads-yahoo</th>\n",
       "      <td>2765</td>\n",
       "      <td>7583</td>\n",
       "      <td>0.364631</td>\n",
       "      <td>112</td>\n",
       "      <td>0.014770</td>\n",
       "    </tr>\n",
       "    <tr>\n",
       "      <th>ads_facebook</th>\n",
       "      <td>19297</td>\n",
       "      <td>53396</td>\n",
       "      <td>0.361394</td>\n",
       "      <td>1132</td>\n",
       "      <td>0.021200</td>\n",
       "    </tr>\n",
       "    <tr>\n",
       "      <th>ads_other</th>\n",
       "      <td>10592</td>\n",
       "      <td>29876</td>\n",
       "      <td>0.354532</td>\n",
       "      <td>429</td>\n",
       "      <td>0.014359</td>\n",
       "    </tr>\n",
       "  </tbody>\n",
       "</table>\n",
       "</div>"
      ],
      "text/plain": [
       "               test                  converted          \n",
       "                sum    len  <lambda>       sum  <lambda>\n",
       "source                                                  \n",
       "ads-bing       8264  22873  0.361299       274  0.011979\n",
       "ads-google    21515  59379  0.362333      1276  0.021489\n",
       "ads-yahoo      2765   7583  0.364631       112  0.014770\n",
       "ads_facebook  19297  53396  0.361394      1132  0.021200\n",
       "ads_other     10592  29876  0.354532       429  0.014359"
      ]
     },
     "execution_count": 185,
     "metadata": {},
     "output_type": "execute_result"
    }
   ],
   "source": [
    "df_source = df.groupby('source').agg({'test':[sum, len, lambda x: x.sum()/float(len(x))], 'converted':[sum, lambda x: x.sum()/float(len(x))]})\n",
    "df_source.head()"
   ]
  },
  {
   "cell_type": "code",
   "execution_count": 173,
   "metadata": {
    "collapsed": false
   },
   "outputs": [
    {
     "data": {
      "text/html": [
       "<div>\n",
       "<table border=\"1\" class=\"dataframe\">\n",
       "  <thead>\n",
       "    <tr style=\"text-align: right;\">\n",
       "      <th></th>\n",
       "      <th>source</th>\n",
       "      <th>test</th>\n",
       "      <th>converted</th>\n",
       "      <th>total_num</th>\n",
       "      <th>conv_rate</th>\n",
       "    </tr>\n",
       "  </thead>\n",
       "  <tbody>\n",
       "    <tr>\n",
       "      <th>0</th>\n",
       "      <td>ads-bing</td>\n",
       "      <td>0</td>\n",
       "      <td>195</td>\n",
       "      <td>14609</td>\n",
       "      <td>0.013348</td>\n",
       "    </tr>\n",
       "    <tr>\n",
       "      <th>1</th>\n",
       "      <td>ads-bing</td>\n",
       "      <td>1</td>\n",
       "      <td>79</td>\n",
       "      <td>8264</td>\n",
       "      <td>0.009560</td>\n",
       "    </tr>\n",
       "    <tr>\n",
       "      <th>2</th>\n",
       "      <td>ads-google</td>\n",
       "      <td>0</td>\n",
       "      <td>854</td>\n",
       "      <td>37864</td>\n",
       "      <td>0.022554</td>\n",
       "    </tr>\n",
       "    <tr>\n",
       "      <th>3</th>\n",
       "      <td>ads-google</td>\n",
       "      <td>1</td>\n",
       "      <td>422</td>\n",
       "      <td>21515</td>\n",
       "      <td>0.019614</td>\n",
       "    </tr>\n",
       "    <tr>\n",
       "      <th>4</th>\n",
       "      <td>ads-yahoo</td>\n",
       "      <td>0</td>\n",
       "      <td>81</td>\n",
       "      <td>4818</td>\n",
       "      <td>0.016812</td>\n",
       "    </tr>\n",
       "  </tbody>\n",
       "</table>\n",
       "</div>"
      ],
      "text/plain": [
       "       source  test  converted  total_num  conv_rate\n",
       "0    ads-bing     0        195      14609   0.013348\n",
       "1    ads-bing     1         79       8264   0.009560\n",
       "2  ads-google     0        854      37864   0.022554\n",
       "3  ads-google     1        422      21515   0.019614\n",
       "4   ads-yahoo     0         81       4818   0.016812"
      ]
     },
     "execution_count": 173,
     "metadata": {},
     "output_type": "execute_result"
    }
   ],
   "source": [
    "df_source_test = df.groupby(['source','test']).agg({'converted':[sum,len, lambda x: x.sum()/float(len(x))]})\n",
    "df_source_test = pd.DataFrame(df_source_test.to_records())\n",
    "df_source_test.columns = ['source','test','converted','total_num','conv_rate']\n",
    "df_source_test.head()"
   ]
  },
  {
   "cell_type": "code",
   "execution_count": 177,
   "metadata": {
    "collapsed": false
   },
   "outputs": [
    {
     "name": "stdout",
     "output_type": "stream",
     "text": [
      "[1.083452971722761, 1.3156098788829291, 1.0088712350315725, 1.0765868651544583, 1.2241201229116638, 1.1273106800803807, 1.2134884552007421, 0.67762906609060469, 1.3776241721720361, 1.077661262683137, 0.81245749003826884, 1.1773470767165366]\n"
     ]
    }
   ],
   "source": [
    "rev_increase_price = []\n",
    "rev_normal_price = []\n",
    "rev_inc_norm = []\n",
    "for i in range(len(df_source_test)):\n",
    "    if df_source_test['test'][i] == 1:\n",
    "        rev_increase_price.append(59*df_source_test['conv_rate'][i])\n",
    "    else:\n",
    "        rev_normal_price.append(39*df_source_test['conv_rate'][i])\n",
    "rev_inc_norm = [a/b for a,b in zip(rev_increase_price,rev_normal_price)]"
   ]
  },
  {
   "cell_type": "code",
   "execution_count": 186,
   "metadata": {
    "collapsed": false
   },
   "outputs": [
    {
     "data": {
      "text/html": [
       "<div>\n",
       "<table border=\"1\" class=\"dataframe\">\n",
       "  <thead>\n",
       "    <tr style=\"text-align: right;\">\n",
       "      <th></th>\n",
       "      <th>source</th>\n",
       "      <th>test_inc</th>\n",
       "      <th>total</th>\n",
       "      <th>test_ratio</th>\n",
       "      <th>conv</th>\n",
       "      <th>conv_ratio</th>\n",
       "      <th>rev_inc_norm</th>\n",
       "    </tr>\n",
       "  </thead>\n",
       "  <tbody>\n",
       "    <tr>\n",
       "      <th>0</th>\n",
       "      <td>ads-bing</td>\n",
       "      <td>8264</td>\n",
       "      <td>22873</td>\n",
       "      <td>0.361299</td>\n",
       "      <td>274</td>\n",
       "      <td>0.011979</td>\n",
       "      <td>1.083453</td>\n",
       "    </tr>\n",
       "    <tr>\n",
       "      <th>1</th>\n",
       "      <td>ads-google</td>\n",
       "      <td>21515</td>\n",
       "      <td>59379</td>\n",
       "      <td>0.362333</td>\n",
       "      <td>1276</td>\n",
       "      <td>0.021489</td>\n",
       "      <td>1.315610</td>\n",
       "    </tr>\n",
       "    <tr>\n",
       "      <th>2</th>\n",
       "      <td>ads-yahoo</td>\n",
       "      <td>2765</td>\n",
       "      <td>7583</td>\n",
       "      <td>0.364631</td>\n",
       "      <td>112</td>\n",
       "      <td>0.014770</td>\n",
       "      <td>1.008871</td>\n",
       "    </tr>\n",
       "    <tr>\n",
       "      <th>3</th>\n",
       "      <td>ads_facebook</td>\n",
       "      <td>19297</td>\n",
       "      <td>53396</td>\n",
       "      <td>0.361394</td>\n",
       "      <td>1132</td>\n",
       "      <td>0.021200</td>\n",
       "      <td>1.076587</td>\n",
       "    </tr>\n",
       "    <tr>\n",
       "      <th>4</th>\n",
       "      <td>ads_other</td>\n",
       "      <td>10592</td>\n",
       "      <td>29876</td>\n",
       "      <td>0.354532</td>\n",
       "      <td>429</td>\n",
       "      <td>0.014359</td>\n",
       "      <td>1.224120</td>\n",
       "    </tr>\n",
       "  </tbody>\n",
       "</table>\n",
       "</div>"
      ],
      "text/plain": [
       "         source  test_inc  total  test_ratio  conv  conv_ratio  rev_inc_norm\n",
       "0      ads-bing      8264  22873    0.361299   274    0.011979      1.083453\n",
       "1    ads-google     21515  59379    0.362333  1276    0.021489      1.315610\n",
       "2     ads-yahoo      2765   7583    0.364631   112    0.014770      1.008871\n",
       "3  ads_facebook     19297  53396    0.361394  1132    0.021200      1.076587\n",
       "4     ads_other     10592  29876    0.354532   429    0.014359      1.224120"
      ]
     },
     "execution_count": 186,
     "metadata": {},
     "output_type": "execute_result"
    }
   ],
   "source": [
    "df_source['rev_inc_norm'] = rev_inc_norm\n",
    "df_source = pd.DataFrame(df_source.to_records())\n",
    "df_source.columns = ['source','test_inc','total','test_ratio','conv','conv_ratio','rev_inc_norm']\n",
    "df_source.head()"
   ]
  },
  {
   "cell_type": "code",
   "execution_count": 156,
   "metadata": {
    "collapsed": false
   },
   "outputs": [
    {
     "data": {
      "text/plain": [
       "(array([ 0,  1,  2,  3,  4,  5,  6,  7,  8,  9, 10, 11]),\n",
       " <a list of 12 Text xticklabel objects>)"
      ]
     },
     "execution_count": 156,
     "metadata": {},
     "output_type": "execute_result"
    },
    {
     "data": {
      "image/png": "[encoded data removed]",
      "text/plain": [
       "<matplotlib.figure.Figure at 0xa08b2a2c>"
      ]
     },
     "metadata": {},
     "output_type": "display_data"
    }
   ],
   "source": [
    "ax = sns.barplot(x='source',y='conv_rate', hue = 'test', data=df_source_test)\n",
    "plt.xticks(rotation = 60)"
   ]
  },
  {
   "cell_type": "code",
   "execution_count": 280,
   "metadata": {
    "collapsed": false
   },
   "outputs": [
    {
     "data": {
      "text/plain": [
       "<matplotlib.text.Text at 0x85f8b52c>"
      ]
     },
     "execution_count": 280,
     "metadata": {},
     "output_type": "execute_result"
    },
    {
     "data": {
      "image/png": "[encoded data removed]",
      "text/plain": [
       "<matplotlib.figure.Figure at 0x86089e6c>"
      ]
     },
     "metadata": {},
     "output_type": "display_data"
    }
   ],
   "source": [
    "# point line shows the overall convertion ratio for each source\n",
    "# barplot shows the increase in price effect on revenue for each source. number greater than 1 indicates a positive effect.\n",
    "ax1 = sns.barplot(x='source',y='rev_inc_norm', data=df_source)\n",
    "plt.xticks(rotation = 60)\n",
    "ax1.set_ylabel('The increase in price effect on revenue.')\n",
    "ax2 = plt.twinx(ax1)\n",
    "sns.pointplot(x='source',y='total',data=df_source,ax=ax2)\n",
    "ax2.set_ylabel('Sample size.')\n",
    "plt.title('The price increase effect by source category')"
   ]
  },
  {
   "cell_type": "code",
   "execution_count": 281,
   "metadata": {
    "collapsed": false
   },
   "outputs": [
    {
     "data": {
      "text/plain": [
       "<matplotlib.text.Text at 0x78fe164c>"
      ]
     },
     "execution_count": 281,
     "metadata": {},
     "output_type": "execute_result"
    },
    {
     "data": {
      "image/png": "[encoded data removed]",
      "text/plain": [
       "<matplotlib.figure.Figure at 0x86355bac>"
      ]
     },
     "metadata": {},
     "output_type": "display_data"
    }
   ],
   "source": [
    "ax1 = sns.barplot(x='source',y='conv_ratio', data=df_source)\n",
    "plt.xticks(rotation = 60)\n",
    "ax1.set_ylabel('Conversion Ratio.')\n",
    "ax2 = plt.twinx(ax1)\n",
    "sns.pointplot(x='source',y='total',data=df_source,ax=ax2)\n",
    "ax2.set_ylabel('Sample size.')\n",
    "plt.title('The conversion ratio by source category')"
   ]
  },
  {
   "cell_type": "code",
   "execution_count": 202,
   "metadata": {
    "collapsed": false
   },
   "outputs": [
    {
     "data": {
      "text/html": [
       "<div>\n",
       "<table border=\"1\" class=\"dataframe\">\n",
       "  <thead>\n",
       "    <tr>\n",
       "      <th></th>\n",
       "      <th colspan=\"3\" halign=\"left\">test</th>\n",
       "      <th colspan=\"2\" halign=\"left\">converted</th>\n",
       "    </tr>\n",
       "    <tr>\n",
       "      <th></th>\n",
       "      <th>sum</th>\n",
       "      <th>len</th>\n",
       "      <th>&lt;lambda&gt;</th>\n",
       "      <th>sum</th>\n",
       "      <th>&lt;lambda&gt;</th>\n",
       "    </tr>\n",
       "    <tr>\n",
       "      <th>operative_system</th>\n",
       "      <th></th>\n",
       "      <th></th>\n",
       "      <th></th>\n",
       "      <th></th>\n",
       "      <th></th>\n",
       "    </tr>\n",
       "  </thead>\n",
       "  <tbody>\n",
       "    <tr>\n",
       "      <th>android</th>\n",
       "      <td>26725</td>\n",
       "      <td>74935</td>\n",
       "      <td>0.356642</td>\n",
       "      <td>1119</td>\n",
       "      <td>0.014933</td>\n",
       "    </tr>\n",
       "    <tr>\n",
       "      <th>iOS</th>\n",
       "      <td>33610</td>\n",
       "      <td>95465</td>\n",
       "      <td>0.352066</td>\n",
       "      <td>2131</td>\n",
       "      <td>0.022322</td>\n",
       "    </tr>\n",
       "    <tr>\n",
       "      <th>linux</th>\n",
       "      <td>1928</td>\n",
       "      <td>4135</td>\n",
       "      <td>0.466264</td>\n",
       "      <td>34</td>\n",
       "      <td>0.008222</td>\n",
       "    </tr>\n",
       "    <tr>\n",
       "      <th>mac</th>\n",
       "      <td>8719</td>\n",
       "      <td>25085</td>\n",
       "      <td>0.347578</td>\n",
       "      <td>602</td>\n",
       "      <td>0.023998</td>\n",
       "    </tr>\n",
       "    <tr>\n",
       "      <th>other</th>\n",
       "      <td>5706</td>\n",
       "      <td>16204</td>\n",
       "      <td>0.352135</td>\n",
       "      <td>210</td>\n",
       "      <td>0.012960</td>\n",
       "    </tr>\n",
       "    <tr>\n",
       "      <th>windows</th>\n",
       "      <td>37385</td>\n",
       "      <td>100976</td>\n",
       "      <td>0.370236</td>\n",
       "      <td>1712</td>\n",
       "      <td>0.016955</td>\n",
       "    </tr>\n",
       "  </tbody>\n",
       "</table>\n",
       "</div>"
      ],
      "text/plain": [
       "                   test                   converted          \n",
       "                    sum     len  <lambda>       sum  <lambda>\n",
       "operative_system                                             \n",
       "android           26725   74935  0.356642      1119  0.014933\n",
       "iOS               33610   95465  0.352066      2131  0.022322\n",
       "linux              1928    4135  0.466264        34  0.008222\n",
       "mac                8719   25085  0.347578       602  0.023998\n",
       "other              5706   16204  0.352135       210  0.012960\n",
       "windows           37385  100976  0.370236      1712  0.016955"
      ]
     },
     "execution_count": 202,
     "metadata": {},
     "output_type": "execute_result"
    }
   ],
   "source": [
    "df_os = df.groupby('operative_system').agg({'test':[sum, len, lambda x: x.sum()/float(len(x))], 'converted':[sum, lambda x: x.sum()/float(len(x))]})\n",
    "df_os"
   ]
  },
  {
   "cell_type": "code",
   "execution_count": 200,
   "metadata": {
    "collapsed": false
   },
   "outputs": [
    {
     "data": {
      "text/html": [
       "<div>\n",
       "<table border=\"1\" class=\"dataframe\">\n",
       "  <thead>\n",
       "    <tr style=\"text-align: right;\">\n",
       "      <th></th>\n",
       "      <th>os</th>\n",
       "      <th>test</th>\n",
       "      <th>converted</th>\n",
       "      <th>total_num</th>\n",
       "      <th>conv_rate</th>\n",
       "    </tr>\n",
       "  </thead>\n",
       "  <tbody>\n",
       "    <tr>\n",
       "      <th>0</th>\n",
       "      <td>android</td>\n",
       "      <td>0</td>\n",
       "      <td>789</td>\n",
       "      <td>48210</td>\n",
       "      <td>0.016366</td>\n",
       "    </tr>\n",
       "    <tr>\n",
       "      <th>1</th>\n",
       "      <td>android</td>\n",
       "      <td>1</td>\n",
       "      <td>330</td>\n",
       "      <td>26725</td>\n",
       "      <td>0.012348</td>\n",
       "    </tr>\n",
       "    <tr>\n",
       "      <th>2</th>\n",
       "      <td>iOS</td>\n",
       "      <td>0</td>\n",
       "      <td>1459</td>\n",
       "      <td>61855</td>\n",
       "      <td>0.023587</td>\n",
       "    </tr>\n",
       "    <tr>\n",
       "      <th>3</th>\n",
       "      <td>iOS</td>\n",
       "      <td>1</td>\n",
       "      <td>672</td>\n",
       "      <td>33610</td>\n",
       "      <td>0.019994</td>\n",
       "    </tr>\n",
       "    <tr>\n",
       "      <th>4</th>\n",
       "      <td>linux</td>\n",
       "      <td>0</td>\n",
       "      <td>34</td>\n",
       "      <td>2207</td>\n",
       "      <td>0.015406</td>\n",
       "    </tr>\n",
       "  </tbody>\n",
       "</table>\n",
       "</div>"
      ],
      "text/plain": [
       "        os  test  converted  total_num  conv_rate\n",
       "0  android     0        789      48210   0.016366\n",
       "1  android     1        330      26725   0.012348\n",
       "2      iOS     0       1459      61855   0.023587\n",
       "3      iOS     1        672      33610   0.019994\n",
       "4    linux     0         34       2207   0.015406"
      ]
     },
     "execution_count": 200,
     "metadata": {},
     "output_type": "execute_result"
    }
   ],
   "source": [
    "df_os_test = df.groupby(['operative_system','test']).agg({'converted':[sum,len, lambda x: x.sum()/float(len(x))]})\n",
    "df_os_test = pd.DataFrame(df_os_test.to_records())\n",
    "df_os_test.columns = ['os','test','converted','total_num','conv_rate']\n",
    "df_os_test.head()"
   ]
  },
  {
   "cell_type": "code",
   "execution_count": 201,
   "metadata": {
    "collapsed": true
   },
   "outputs": [],
   "source": [
    "rev_increase_price = []\n",
    "rev_normal_price = []\n",
    "rev_inc_norm = []\n",
    "for i in range(len(df_os_test)):\n",
    "    if df_os_test['test'][i] == 1:\n",
    "        rev_increase_price.append(59*df_os_test['conv_rate'][i])\n",
    "    else:\n",
    "        rev_normal_price.append(39*df_os_test['conv_rate'][i])\n",
    "rev_inc_norm = [a/b for a,b in zip(rev_increase_price,rev_normal_price)]"
   ]
  },
  {
   "cell_type": "code",
   "execution_count": 203,
   "metadata": {
    "collapsed": false
   },
   "outputs": [
    {
     "data": {
      "text/html": [
       "<div>\n",
       "<table border=\"1\" class=\"dataframe\">\n",
       "  <thead>\n",
       "    <tr style=\"text-align: right;\">\n",
       "      <th></th>\n",
       "      <th>source</th>\n",
       "      <th>test_inc</th>\n",
       "      <th>total</th>\n",
       "      <th>test_ratio</th>\n",
       "      <th>conv</th>\n",
       "      <th>conv_ratio</th>\n",
       "      <th>rev_inc_norm</th>\n",
       "    </tr>\n",
       "  </thead>\n",
       "  <tbody>\n",
       "    <tr>\n",
       "      <th>0</th>\n",
       "      <td>android</td>\n",
       "      <td>26725</td>\n",
       "      <td>74935</td>\n",
       "      <td>0.356642</td>\n",
       "      <td>1119</td>\n",
       "      <td>0.014933</td>\n",
       "      <td>1.141415</td>\n",
       "    </tr>\n",
       "    <tr>\n",
       "      <th>1</th>\n",
       "      <td>iOS</td>\n",
       "      <td>33610</td>\n",
       "      <td>95465</td>\n",
       "      <td>0.352066</td>\n",
       "      <td>2131</td>\n",
       "      <td>0.022322</td>\n",
       "      <td>1.282353</td>\n",
       "    </tr>\n",
       "    <tr>\n",
       "      <th>2</th>\n",
       "      <td>linux</td>\n",
       "      <td>1928</td>\n",
       "      <td>4135</td>\n",
       "      <td>0.466264</td>\n",
       "      <td>34</td>\n",
       "      <td>0.008222</td>\n",
       "      <td>0.000000</td>\n",
       "    </tr>\n",
       "    <tr>\n",
       "      <th>3</th>\n",
       "      <td>mac</td>\n",
       "      <td>8719</td>\n",
       "      <td>25085</td>\n",
       "      <td>0.347578</td>\n",
       "      <td>602</td>\n",
       "      <td>0.023998</td>\n",
       "      <td>1.259792</td>\n",
       "    </tr>\n",
       "    <tr>\n",
       "      <th>4</th>\n",
       "      <td>other</td>\n",
       "      <td>5706</td>\n",
       "      <td>16204</td>\n",
       "      <td>0.352135</td>\n",
       "      <td>210</td>\n",
       "      <td>0.012960</td>\n",
       "      <td>1.192849</td>\n",
       "    </tr>\n",
       "  </tbody>\n",
       "</table>\n",
       "</div>"
      ],
      "text/plain": [
       "    source  test_inc  total  test_ratio  conv  conv_ratio  rev_inc_norm\n",
       "0  android     26725  74935    0.356642  1119    0.014933      1.141415\n",
       "1      iOS     33610  95465    0.352066  2131    0.022322      1.282353\n",
       "2    linux      1928   4135    0.466264    34    0.008222      0.000000\n",
       "3      mac      8719  25085    0.347578   602    0.023998      1.259792\n",
       "4    other      5706  16204    0.352135   210    0.012960      1.192849"
      ]
     },
     "execution_count": 203,
     "metadata": {},
     "output_type": "execute_result"
    }
   ],
   "source": [
    "df_os['rev_inc_norm'] = rev_inc_norm\n",
    "df_os = pd.DataFrame(df_os.to_records())\n",
    "df_os.columns = ['source','test_inc','total','test_ratio','conv','conv_ratio','rev_inc_norm']\n",
    "df_os.head()"
   ]
  },
  {
   "cell_type": "code",
   "execution_count": 158,
   "metadata": {
    "collapsed": false
   },
   "outputs": [
    {
     "data": {
      "text/plain": [
       "(array([0, 1, 2, 3, 4, 5]), <a list of 6 Text xticklabel objects>)"
      ]
     },
     "execution_count": 158,
     "metadata": {},
     "output_type": "execute_result"
    },
    {
     "data": {
      "image/png": "[encoded data removed]",
      "text/plain": [
       "<matplotlib.figure.Figure at 0xa08215cc>"
      ]
     },
     "metadata": {},
     "output_type": "display_data"
    }
   ],
   "source": [
    "ax = sns.barplot(x='os',y='conv_rate', hue = 'test', data=df_os_test)\n",
    "plt.xticks(rotation = 60)"
   ]
  },
  {
   "cell_type": "code",
   "execution_count": 206,
   "metadata": {
    "collapsed": false
   },
   "outputs": [
    {
     "data": {
      "text/plain": [
       "<matplotlib.text.Text at 0x7933d1ec>"
      ]
     },
     "execution_count": 206,
     "metadata": {},
     "output_type": "execute_result"
    },
    {
     "data": {
      "image/png": "[encoded data removed]",
      "text/plain": [
       "<matplotlib.figure.Figure at 0x7951306c>"
      ]
     },
     "metadata": {},
     "output_type": "display_data"
    }
   ],
   "source": [
    "# point line shows the overall convertion ratio for each source\n",
    "# barplot shows the increase in price effect on revenue for each source. number greater than 1 indicates a positive effect.\n",
    "ax1 = sns.barplot(x='source',y='rev_inc_norm', data=df_os)\n",
    "plt.xticks(rotation = 60)\n",
    "ax1.set_ylabel('The increase in price effect on revenue.')\n",
    "ax2 = plt.twinx(ax1)\n",
    "sns.pointplot(x='source',y='conv_ratio',data=df_os,ax=ax2,color= 'r')\n",
    "ax2.set_ylabel('Overall convertion ratio.')\n",
    "plt.title('The price increase effect by os category')"
   ]
  },
  {
   "cell_type": "code",
   "execution_count": 161,
   "metadata": {
    "collapsed": false
   },
   "outputs": [
    {
     "name": "stdout",
     "output_type": "stream",
     "text": [
      "1832\n"
     ]
    },
    {
     "data": {
      "text/html": [
       "<div>\n",
       "<table border=\"1\" class=\"dataframe\">\n",
       "  <thead>\n",
       "    <tr>\n",
       "      <th></th>\n",
       "      <th></th>\n",
       "      <th colspan=\"3\" halign=\"left\">converted</th>\n",
       "    </tr>\n",
       "    <tr>\n",
       "      <th></th>\n",
       "      <th></th>\n",
       "      <th>sum</th>\n",
       "      <th>len</th>\n",
       "      <th>&lt;lambda&gt;</th>\n",
       "    </tr>\n",
       "    <tr>\n",
       "      <th>city</th>\n",
       "      <th>test</th>\n",
       "      <th></th>\n",
       "      <th></th>\n",
       "      <th></th>\n",
       "    </tr>\n",
       "  </thead>\n",
       "  <tbody>\n",
       "    <tr>\n",
       "      <th rowspan=\"2\" valign=\"top\">Abilene</th>\n",
       "      <th>0</th>\n",
       "      <td>7</td>\n",
       "      <td>281</td>\n",
       "      <td>0.024911</td>\n",
       "    </tr>\n",
       "    <tr>\n",
       "      <th>1</th>\n",
       "      <td>1</td>\n",
       "      <td>150</td>\n",
       "      <td>0.006667</td>\n",
       "    </tr>\n",
       "    <tr>\n",
       "      <th rowspan=\"2\" valign=\"top\">Akron</th>\n",
       "      <th>0</th>\n",
       "      <td>6</td>\n",
       "      <td>224</td>\n",
       "      <td>0.026786</td>\n",
       "    </tr>\n",
       "    <tr>\n",
       "      <th>1</th>\n",
       "      <td>1</td>\n",
       "      <td>135</td>\n",
       "      <td>0.007407</td>\n",
       "    </tr>\n",
       "    <tr>\n",
       "      <th>Alameda</th>\n",
       "      <th>0</th>\n",
       "      <td>2</td>\n",
       "      <td>105</td>\n",
       "      <td>0.019048</td>\n",
       "    </tr>\n",
       "  </tbody>\n",
       "</table>\n",
       "</div>"
      ],
      "text/plain": [
       "             converted               \n",
       "                   sum  len  <lambda>\n",
       "city    test                         \n",
       "Abilene 0            7  281  0.024911\n",
       "        1            1  150  0.006667\n",
       "Akron   0            6  224  0.026786\n",
       "        1            1  135  0.007407\n",
       "Alameda 0            2  105  0.019048"
      ]
     },
     "execution_count": 161,
     "metadata": {},
     "output_type": "execute_result"
    }
   ],
   "source": [
    "df_city_test = df.groupby(['city','test']).agg({'converted':[sum,len, lambda x: x.sum()/float(len(x))]})\n",
    "print len(df_city_test)\n",
    "df_city_test.head()"
   ]
  },
  {
   "cell_type": "code",
   "execution_count": 134,
   "metadata": {
    "collapsed": false
   },
   "outputs": [
    {
     "data": {
      "image/png": "[encoded data removed]",
      "text/plain": [
       "<matplotlib.figure.Figure at 0x983759ac>"
      ]
     },
     "metadata": {},
     "output_type": "display_data"
    }
   ],
   "source": [
    "# the code below this cell is the early stage try and should be ignored.\n",
    "plt.subplot(2, 1, 1)\n",
    "ncount = len(df_converted)\n",
    "ax1 = sns.countplot(x='source',data = df_converted)\n",
    "for p in ax1.patches:\n",
    "    x=p.get_bbox().get_points()[:,0]\n",
    "    y=p.get_bbox().get_points()[1,1]\n",
    "    ax1.annotate('{:.1f}%'.format(100.*y/ncount), (x.mean(), y), \n",
    "            ha='center', va='bottom') \n",
    "plt.xticks([])\n",
    "plt.xlabel('source of converted user')\n",
    "plt.subplot(2, 1, 2)\n",
    "ncount = len(df_not_converted)\n",
    "ax2 = sns.countplot(x='source',data = df_not_converted)\n",
    "for p in ax2.patches:\n",
    "    x=p.get_bbox().get_points()[:,0]\n",
    "    y=p.get_bbox().get_points()[1,1]\n",
    "    ax2.annotate('{:.1f}%'.format(100.*y/ncount), (x.mean(), y), \n",
    "            ha='center', va='bottom') \n",
    "plt.xticks(rotation = 60)\n",
    "plt.xlabel('source of not converted user')\n",
    "plt.show()"
   ]
  },
  {
   "cell_type": "code",
   "execution_count": 150,
   "metadata": {
    "collapsed": false
   },
   "outputs": [
    {
     "data": {
      "text/plain": [
       "<seaborn.axisgrid.FacetGrid at 0x98cbad6c>"
      ]
     },
     "execution_count": 150,
     "metadata": {},
     "output_type": "execute_result"
    },
    {
     "data": {
      "image/png": "[encoded data removed]",
      "text/plain": [
       "<matplotlib.figure.Figure at 0x98cba72c>"
      ]
     },
     "metadata": {},
     "output_type": "display_data"
    }
   ],
   "source": [
    "g = sns.factorplot(\"converted\", col=\"operative_system\",\n",
    "...                    data=df, saturation=.5,\n",
    "...                    kind=\"count\", ci=None, aspect=.6)\n",
    "\n",
    "(g.set_axis_labels(\"\", \"Counts\")\n",
    "...   .set_xticklabels([\"No\", \"Yes\"])\n",
    "...   .set_titles(\"{col_name}\")\n",
    "...   .despine(left=True))"
   ]
  },
  {
   "cell_type": "code",
   "execution_count": 138,
   "metadata": {
    "collapsed": false
   },
   "outputs": [
    {
     "data": {
      "text/plain": [
       "<seaborn.axisgrid.FacetGrid at 0x99378fac>"
      ]
     },
     "execution_count": 138,
     "metadata": {},
     "output_type": "execute_result"
    },
    {
     "data": {
      "image/png": "[encoded data removed]",
      "text/plain": [
       "<matplotlib.figure.Figure at 0x9937370c>"
      ]
     },
     "metadata": {},
     "output_type": "display_data"
    }
   ],
   "source": [
    "g = sns.factorplot(x=\"operative_system\",y=\"converted\", col=\"price\",\n",
    "...                    data=df, saturation=.5,\n",
    "...                    kind=\"bar\", ci=None)\n",
    "\n",
    "(g.set_axis_labels(\"\", \"Conversion Rate\")\n",
    "...   .set_xticklabels([\"android\", \"iOS\",\"linux\",\"mac\",\"other\",\"windows\"],rotation = 60)\n",
    "...   .set_titles(\"{col_name} dollar\")\n",
    "...   .despine(left=True))"
   ]
  },
  {
   "cell_type": "code",
   "execution_count": 140,
   "metadata": {
    "collapsed": false
   },
   "outputs": [
    {
     "data": {
      "text/html": [
       "<div>\n",
       "<table border=\"1\" class=\"dataframe\">\n",
       "  <thead>\n",
       "    <tr style=\"text-align: right;\">\n",
       "      <th></th>\n",
       "      <th>source</th>\n",
       "      <th>operative_system</th>\n",
       "      <th>price</th>\n",
       "      <th>city</th>\n",
       "    </tr>\n",
       "  </thead>\n",
       "  <tbody>\n",
       "    <tr>\n",
       "      <th>0</th>\n",
       "      <td>ads_facebook</td>\n",
       "      <td>iOS</td>\n",
       "      <td>39</td>\n",
       "      <td>Buffalo</td>\n",
       "    </tr>\n",
       "    <tr>\n",
       "      <th>1</th>\n",
       "      <td>seo-google</td>\n",
       "      <td>android</td>\n",
       "      <td>39</td>\n",
       "      <td>Lakeville</td>\n",
       "    </tr>\n",
       "    <tr>\n",
       "      <th>2</th>\n",
       "      <td>ads-bing</td>\n",
       "      <td>android</td>\n",
       "      <td>39</td>\n",
       "      <td>Parma</td>\n",
       "    </tr>\n",
       "    <tr>\n",
       "      <th>3</th>\n",
       "      <td>direct_traffic</td>\n",
       "      <td>iOS</td>\n",
       "      <td>59</td>\n",
       "      <td>Fayetteville</td>\n",
       "    </tr>\n",
       "    <tr>\n",
       "      <th>4</th>\n",
       "      <td>ads_facebook</td>\n",
       "      <td>mac</td>\n",
       "      <td>39</td>\n",
       "      <td>Fishers</td>\n",
       "    </tr>\n",
       "  </tbody>\n",
       "</table>\n",
       "</div>"
      ],
      "text/plain": [
       "           source operative_system  price          city\n",
       "0    ads_facebook              iOS     39       Buffalo\n",
       "1      seo-google          android     39     Lakeville\n",
       "2        ads-bing          android     39         Parma\n",
       "3  direct_traffic              iOS     59  Fayetteville\n",
       "4    ads_facebook              mac     39       Fishers"
      ]
     },
     "execution_count": 140,
     "metadata": {},
     "output_type": "execute_result"
    }
   ],
   "source": [
    "num_feats=['source','operative_system','price','city']\n",
    "X = df[num_feats]\n",
    "y = df['converted']\n",
    "X.head()"
   ]
  },
  {
   "cell_type": "code",
   "execution_count": 229,
   "metadata": {
    "collapsed": false
   },
   "outputs": [
    {
     "name": "stdout",
     "output_type": "stream",
     "text": [
      "The sample number within 30 days of experiment is 102178 and 32.25 percent of the total samples.\n"
     ]
    },
    {
     "data": {
      "text/html": [
       "<div>\n",
       "<table border=\"1\" class=\"dataframe\">\n",
       "  <thead>\n",
       "    <tr style=\"text-align: right;\">\n",
       "      <th></th>\n",
       "      <th>user_id</th>\n",
       "      <th>timestamp</th>\n",
       "      <th>source</th>\n",
       "      <th>device</th>\n",
       "      <th>operative_system</th>\n",
       "      <th>test</th>\n",
       "      <th>price</th>\n",
       "      <th>converted</th>\n",
       "      <th>time_date</th>\n",
       "      <th>city</th>\n",
       "      <th>country</th>\n",
       "      <th>lat</th>\n",
       "      <th>long</th>\n",
       "      <th>lat_lon</th>\n",
       "    </tr>\n",
       "  </thead>\n",
       "  <tbody>\n",
       "    <tr>\n",
       "      <th>6</th>\n",
       "      <td>600150</td>\n",
       "      <td>2015-03-04 14:45:44</td>\n",
       "      <td>seo_facebook</td>\n",
       "      <td>web</td>\n",
       "      <td>windows</td>\n",
       "      <td>0</td>\n",
       "      <td>39</td>\n",
       "      <td>0</td>\n",
       "      <td>2015-03-04</td>\n",
       "      <td>NaN</td>\n",
       "      <td>NaN</td>\n",
       "      <td>nan</td>\n",
       "      <td>nan</td>\n",
       "      <td>(nan, nan)</td>\n",
       "    </tr>\n",
       "    <tr>\n",
       "      <th>7</th>\n",
       "      <td>798371</td>\n",
       "      <td>2015-03-15 08:19:29</td>\n",
       "      <td>ads-bing</td>\n",
       "      <td>mobile</td>\n",
       "      <td>android</td>\n",
       "      <td>1</td>\n",
       "      <td>59</td>\n",
       "      <td>1</td>\n",
       "      <td>2015-03-15</td>\n",
       "      <td>East Orange</td>\n",
       "      <td>USA</td>\n",
       "      <td>40.770000</td>\n",
       "      <td>-74.210000</td>\n",
       "      <td>(40.770000, -74.210000)</td>\n",
       "    </tr>\n",
       "    <tr>\n",
       "      <th>8</th>\n",
       "      <td>447194</td>\n",
       "      <td>2015-03-28 12:28:10</td>\n",
       "      <td>ads_facebook</td>\n",
       "      <td>web</td>\n",
       "      <td>windows</td>\n",
       "      <td>1</td>\n",
       "      <td>59</td>\n",
       "      <td>0</td>\n",
       "      <td>2015-03-28</td>\n",
       "      <td>Dayton</td>\n",
       "      <td>USA</td>\n",
       "      <td>39.780000</td>\n",
       "      <td>-84.200000</td>\n",
       "      <td>(39.780000, -84.200000)</td>\n",
       "    </tr>\n",
       "    <tr>\n",
       "      <th>13</th>\n",
       "      <td>460593</td>\n",
       "      <td>2015-03-21 09:43:51</td>\n",
       "      <td>friend_referral</td>\n",
       "      <td>mobile</td>\n",
       "      <td>iOS</td>\n",
       "      <td>0</td>\n",
       "      <td>39</td>\n",
       "      <td>1</td>\n",
       "      <td>2015-03-21</td>\n",
       "      <td>Hampton</td>\n",
       "      <td>USA</td>\n",
       "      <td>37.050000</td>\n",
       "      <td>-76.290000</td>\n",
       "      <td>(37.050000, -76.290000)</td>\n",
       "    </tr>\n",
       "    <tr>\n",
       "      <th>15</th>\n",
       "      <td>552048</td>\n",
       "      <td>2015-03-22 08:58:32</td>\n",
       "      <td>ads-bing</td>\n",
       "      <td>web</td>\n",
       "      <td>windows</td>\n",
       "      <td>1</td>\n",
       "      <td>59</td>\n",
       "      <td>0</td>\n",
       "      <td>2015-03-22</td>\n",
       "      <td>Culver City</td>\n",
       "      <td>USA</td>\n",
       "      <td>34.010000</td>\n",
       "      <td>-118.400000</td>\n",
       "      <td>(34.010000, -118.400000)</td>\n",
       "    </tr>\n",
       "  </tbody>\n",
       "</table>\n",
       "</div>"
      ],
      "text/plain": [
       "    user_id            timestamp           source  device operative_system  \\\n",
       "6    600150  2015-03-04 14:45:44     seo_facebook     web          windows   \n",
       "7    798371  2015-03-15 08:19:29         ads-bing  mobile          android   \n",
       "8    447194  2015-03-28 12:28:10     ads_facebook     web          windows   \n",
       "13   460593  2015-03-21 09:43:51  friend_referral  mobile              iOS   \n",
       "15   552048  2015-03-22 08:58:32         ads-bing     web          windows   \n",
       "\n",
       "    test  price  converted   time_date         city country        lat  \\\n",
       "6      0     39          0  2015-03-04          NaN     NaN        nan   \n",
       "7      1     59          1  2015-03-15  East Orange     USA  40.770000   \n",
       "8      1     59          0  2015-03-28       Dayton     USA  39.780000   \n",
       "13     0     39          1  2015-03-21      Hampton     USA  37.050000   \n",
       "15     1     59          0  2015-03-22  Culver City     USA  34.010000   \n",
       "\n",
       "           long                   lat_lon  \n",
       "6           nan                (nan, nan)  \n",
       "7    -74.210000   (40.770000, -74.210000)  \n",
       "8    -84.200000   (39.780000, -84.200000)  \n",
       "13   -76.290000   (37.050000, -76.290000)  \n",
       "15  -118.400000  (34.010000, -118.400000)  "
      ]
     },
     "execution_count": 229,
     "metadata": {},
     "output_type": "execute_result"
    }
   ],
   "source": [
    "n=30\n",
    "faster_df = df.drop(df.index[pd.to_datetime(df['time_date'])> (min(pd.to_datetime(df['time_date']))+timedelta(days=n))])\n",
    "print 'The sample number within %d days of experiment is %d and %.2f percent of the total samples.' % (n, len(faster_df), float(len(faster_df))/len(df)*100)\n",
    "faster_df.head()"
   ]
  },
  {
   "cell_type": "code",
   "execution_count": 241,
   "metadata": {
    "collapsed": false
   },
   "outputs": [
    {
     "name": "stdout",
     "output_type": "stream",
     "text": [
      "The number of users converted in 0 test group is 65273, which is 1.97 percent.\n",
      "The number of users converted in 1 test group is 36905, which is 1.61 percent.\n",
      "The increased revenue ratio by increasing price from 39 to 59 dollars is 1.24 times after 30 days of experiment.\n"
     ]
    },
    {
     "data": {
      "text/html": [
       "<div>\n",
       "<table border=\"1\" class=\"dataframe\">\n",
       "  <thead>\n",
       "    <tr style=\"text-align: right;\">\n",
       "      <th></th>\n",
       "      <th>index</th>\n",
       "      <th>test</th>\n",
       "      <th>total</th>\n",
       "      <th>conv_rate</th>\n",
       "    </tr>\n",
       "  </thead>\n",
       "  <tbody>\n",
       "    <tr>\n",
       "      <th>0</th>\n",
       "      <td>0</td>\n",
       "      <td>0</td>\n",
       "      <td>65273</td>\n",
       "      <td>0.019656</td>\n",
       "    </tr>\n",
       "    <tr>\n",
       "      <th>1</th>\n",
       "      <td>1</td>\n",
       "      <td>1</td>\n",
       "      <td>36905</td>\n",
       "      <td>0.016122</td>\n",
       "    </tr>\n",
       "  </tbody>\n",
       "</table>\n",
       "</div>"
      ],
      "text/plain": [
       "   index  test  total  conv_rate\n",
       "0      0     0  65273   0.019656\n",
       "1      1     1  36905   0.016122"
      ]
     },
     "execution_count": 241,
     "metadata": {},
     "output_type": "execute_result"
    }
   ],
   "source": [
    "faster_df = faster_df.groupby(['test']).agg({'converted':[len,lambda x: x.sum()/float(len(x))]})\n",
    "faster_df = pd.DataFrame(faster_df.to_records())\n",
    "faster_df.columns = ['index','test','total','conv_rate']\n",
    "print 'The number of users converted in 0 test group is %d, which is %.2f percent.' %(faster_df['total'][0],faster_df['conv_rate'][0]*100)\n",
    "print 'The number of users converted in 1 test group is %d, which is %.2f percent.' %(faster_df['total'][1],faster_df['conv_rate'][1]*100)\n",
    "rev_inc_norm = faster_df['conv_rate'][1]*59/faster_df['conv_rate'][0]/39\n",
    "print 'The increased revenue ratio by increasing price from 39 to 59 dollars is %.2f times after %d days of experiment.' %  (rev_inc_norm,n)\n",
    "faster_df.head()"
   ]
  },
  {
   "cell_type": "code",
   "execution_count": 249,
   "metadata": {
    "collapsed": false
   },
   "outputs": [],
   "source": [
    "rev_del = []\n",
    "rev_perc = []\n",
    "days = []\n",
    "start_day = min(pd.to_datetime(df['time_date']))\n",
    "for i in np.arange(4,90,7):\n",
    "    new_df = df.drop(df.index[pd.to_datetime(df['time_date'])> (start_day+timedelta(days=i))])\n",
    "    new_df_A = new_df[new_df['price']==39]\n",
    "    new_df_B = new_df[new_df['price']==59]\n",
    "    delta = len(new_df_B.index[new_df_B['converted']==1])*59-(float(len(new_df_A.index[new_df_A['converted']==1]))/len(new_df_A)*len(new_df_B))*39\n",
    "    rev_del.append(round(delta,2))\n",
    "    rev_perc.append(delta/((float(len(new_df_A.index[new_df_A['converted']==1]))/len(new_df_A)*len(new_df_B))*39))\n",
    "    days.append(i)"
   ]
  },
  {
   "cell_type": "code",
   "execution_count": 250,
   "metadata": {
    "collapsed": false
   },
   "outputs": [
    {
     "data": {
      "text/html": [
       "<div>\n",
       "<table border=\"1\" class=\"dataframe\">\n",
       "  <thead>\n",
       "    <tr style=\"text-align: right;\">\n",
       "      <th></th>\n",
       "      <th>days</th>\n",
       "      <th>rev_inc</th>\n",
       "      <th>rev_inc_perc</th>\n",
       "    </tr>\n",
       "  </thead>\n",
       "  <tbody>\n",
       "    <tr>\n",
       "      <th>0</th>\n",
       "      <td>4</td>\n",
       "      <td>790.87</td>\n",
       "      <td>0.179697</td>\n",
       "    </tr>\n",
       "    <tr>\n",
       "      <th>1</th>\n",
       "      <td>11</td>\n",
       "      <td>2753.71</td>\n",
       "      <td>0.253208</td>\n",
       "    </tr>\n",
       "    <tr>\n",
       "      <th>2</th>\n",
       "      <td>18</td>\n",
       "      <td>4208.69</td>\n",
       "      <td>0.243737</td>\n",
       "    </tr>\n",
       "    <tr>\n",
       "      <th>3</th>\n",
       "      <td>25</td>\n",
       "      <td>5902.02</td>\n",
       "      <td>0.243412</td>\n",
       "    </tr>\n",
       "    <tr>\n",
       "      <th>4</th>\n",
       "      <td>32</td>\n",
       "      <td>6791.89</td>\n",
       "      <td>0.216433</td>\n",
       "    </tr>\n",
       "  </tbody>\n",
       "</table>\n",
       "</div>"
      ],
      "text/plain": [
       "   days  rev_inc  rev_inc_perc\n",
       "0     4   790.87      0.179697\n",
       "1    11  2753.71      0.253208\n",
       "2    18  4208.69      0.243737\n",
       "3    25  5902.02      0.243412\n",
       "4    32  6791.89      0.216433"
      ]
     },
     "execution_count": 250,
     "metadata": {},
     "output_type": "execute_result"
    }
   ],
   "source": [
    "time_exp = pd.DataFrame()\n",
    "time_exp['days'] = days\n",
    "time_exp['rev_inc'] = rev_del\n",
    "time_exp['rev_inc_perc'] = rev_perc\n",
    "time_exp.head()"
   ]
  },
  {
   "cell_type": "code",
   "execution_count": 251,
   "metadata": {
    "collapsed": false
   },
   "outputs": [
    {
     "data": {
      "text/plain": [
       "<matplotlib.text.Text at 0x864a322c>"
      ]
     },
     "execution_count": 251,
     "metadata": {},
     "output_type": "execute_result"
    },
    {
     "data": {
      "image/png": "[encoded data removed]",
      "text/plain": [
       "<matplotlib.figure.Figure at 0xa47cf7cc>"
      ]
     },
     "metadata": {},
     "output_type": "display_data"
    }
   ],
   "source": [
    "ax1 = sns.barplot(x='days',y = 'rev_inc', data = time_exp)\n",
    "ax1.set_ylabel('Increased Revenue by Increasing Price from 39 to 59 Dollars.')\n",
    "ax2 = plt.twinx(ax1)\n",
    "sns.pointplot(x='days', y = 'rev_inc_perc',data = time_exp, ax=ax2)\n",
    "ax2.set_ylabel('Increased Revenue Percentage by Increasing Price.')\n",
    "plt.title('AB Testing Time Elapse')"
   ]
  },
  {
   "cell_type": "code",
   "execution_count": 258,
   "metadata": {
    "collapsed": false
   },
   "outputs": [],
   "source": [
    "rev_inc_norm = []\n",
    "days = []\n",
    "start_day = min(pd.to_datetime(df['time_date']))\n",
    "j=0\n",
    "for i in np.arange(3,90,7):\n",
    "    new_df = df.drop(df.index[pd.to_datetime(df['time_date']) > (start_day+timedelta(days=i))])\n",
    "    new_df = new_df.drop(new_df.index[pd.to_datetime(new_df['time_date'])< (start_day+timedelta(days=j))])\n",
    "    new_df = new_df.groupby(['test']).agg({'converted':lambda x: x.sum()/float(len(x))})\n",
    "    new_df = pd.DataFrame(new_df.to_records())\n",
    "    new_df.columns = ['test','conv_rate']\n",
    "    rev_inc_norm.append(new_df['conv_rate'][1]*59/new_df['conv_rate'][0]/39)\n",
    "    days.append(i)\n",
    "    j = i\n"
   ]
  },
  {
   "cell_type": "code",
   "execution_count": 259,
   "metadata": {
    "collapsed": false
   },
   "outputs": [
    {
     "data": {
      "text/html": [
       "<div>\n",
       "<table border=\"1\" class=\"dataframe\">\n",
       "  <thead>\n",
       "    <tr style=\"text-align: right;\">\n",
       "      <th></th>\n",
       "      <th>days</th>\n",
       "      <th>rev_inc_norm</th>\n",
       "    </tr>\n",
       "  </thead>\n",
       "  <tbody>\n",
       "    <tr>\n",
       "      <th>0</th>\n",
       "      <td>3</td>\n",
       "      <td>1.052706</td>\n",
       "    </tr>\n",
       "    <tr>\n",
       "      <th>1</th>\n",
       "      <td>10</td>\n",
       "      <td>1.320781</td>\n",
       "    </tr>\n",
       "    <tr>\n",
       "      <th>2</th>\n",
       "      <td>17</td>\n",
       "      <td>1.227299</td>\n",
       "    </tr>\n",
       "    <tr>\n",
       "      <th>3</th>\n",
       "      <td>24</td>\n",
       "      <td>1.316839</td>\n",
       "    </tr>\n",
       "    <tr>\n",
       "      <th>4</th>\n",
       "      <td>31</td>\n",
       "      <td>1.182735</td>\n",
       "    </tr>\n",
       "  </tbody>\n",
       "</table>\n",
       "</div>"
      ],
      "text/plain": [
       "   days  rev_inc_norm\n",
       "0     3      1.052706\n",
       "1    10      1.320781\n",
       "2    17      1.227299\n",
       "3    24      1.316839\n",
       "4    31      1.182735"
      ]
     },
     "execution_count": 259,
     "metadata": {},
     "output_type": "execute_result"
    }
   ],
   "source": [
    "time_exp = pd.DataFrame()\n",
    "time_exp['days'] = days\n",
    "time_exp['rev_inc_norm'] = rev_inc_norm\n",
    "time_exp.head()"
   ]
  },
  {
   "cell_type": "code",
   "execution_count": 261,
   "metadata": {
    "collapsed": false
   },
   "outputs": [
    {
     "data": {
      "text/plain": [
       "<matplotlib.axes._subplots.AxesSubplot at 0x861e19ec>"
      ]
     },
     "execution_count": 261,
     "metadata": {},
     "output_type": "execute_result"
    },
    {
     "data": {
      "image/png": "[encoded data removed]",
      "text/plain": [
       "<matplotlib.figure.Figure at 0x8614c6ac>"
      ]
     },
     "metadata": {},
     "output_type": "display_data"
    }
   ],
   "source": [
    "sns.pointplot(x='days',y='rev_inc_norm', data = time_exp)"
   ]
  },
  {
   "cell_type": "code",
   "execution_count": 278,
   "metadata": {
    "collapsed": false
   },
   "outputs": [
    {
     "data": {
      "text/html": [
       "<div>\n",
       "<table border=\"1\" class=\"dataframe\">\n",
       "  <thead>\n",
       "    <tr style=\"text-align: right;\">\n",
       "      <th></th>\n",
       "      <th>lower_interval</th>\n",
       "      <th>mean</th>\n",
       "      <th>std</th>\n",
       "      <th>week</th>\n",
       "    </tr>\n",
       "  </thead>\n",
       "  <tbody>\n",
       "    <tr>\n",
       "      <th>0</th>\n",
       "      <td>1.052706</td>\n",
       "      <td>1.052706</td>\n",
       "      <td>0.000000</td>\n",
       "      <td>1</td>\n",
       "    </tr>\n",
       "    <tr>\n",
       "      <th>1</th>\n",
       "      <td>0.944109</td>\n",
       "      <td>1.186743</td>\n",
       "      <td>0.094779</td>\n",
       "      <td>2</td>\n",
       "    </tr>\n",
       "    <tr>\n",
       "      <th>2</th>\n",
       "      <td>1.036056</td>\n",
       "      <td>1.200262</td>\n",
       "      <td>0.064143</td>\n",
       "      <td>3</td>\n",
       "    </tr>\n",
       "    <tr>\n",
       "      <th>3</th>\n",
       "      <td>1.090331</td>\n",
       "      <td>1.229406</td>\n",
       "      <td>0.054326</td>\n",
       "      <td>4</td>\n",
       "    </tr>\n",
       "    <tr>\n",
       "      <th>4</th>\n",
       "      <td>1.106778</td>\n",
       "      <td>1.220072</td>\n",
       "      <td>0.044256</td>\n",
       "      <td>5</td>\n",
       "    </tr>\n",
       "    <tr>\n",
       "      <th>5</th>\n",
       "      <td>1.092682</td>\n",
       "      <td>1.199079</td>\n",
       "      <td>0.041561</td>\n",
       "      <td>6</td>\n",
       "    </tr>\n",
       "    <tr>\n",
       "      <th>6</th>\n",
       "      <td>1.079251</td>\n",
       "      <td>1.180512</td>\n",
       "      <td>0.039555</td>\n",
       "      <td>7</td>\n",
       "    </tr>\n",
       "    <tr>\n",
       "      <th>7</th>\n",
       "      <td>1.081827</td>\n",
       "      <td>1.172489</td>\n",
       "      <td>0.035415</td>\n",
       "      <td>8</td>\n",
       "    </tr>\n",
       "    <tr>\n",
       "      <th>8</th>\n",
       "      <td>1.083864</td>\n",
       "      <td>1.165973</td>\n",
       "      <td>0.032074</td>\n",
       "      <td>9</td>\n",
       "    </tr>\n",
       "    <tr>\n",
       "      <th>9</th>\n",
       "      <td>1.072188</td>\n",
       "      <td>1.152756</td>\n",
       "      <td>0.031472</td>\n",
       "      <td>10</td>\n",
       "    </tr>\n",
       "    <tr>\n",
       "      <th>10</th>\n",
       "      <td>1.083826</td>\n",
       "      <td>1.158316</td>\n",
       "      <td>0.029098</td>\n",
       "      <td>11</td>\n",
       "    </tr>\n",
       "    <tr>\n",
       "      <th>11</th>\n",
       "      <td>1.091312</td>\n",
       "      <td>1.159676</td>\n",
       "      <td>0.026705</td>\n",
       "      <td>12</td>\n",
       "    </tr>\n",
       "  </tbody>\n",
       "</table>\n",
       "</div>"
      ],
      "text/plain": [
       "    lower_interval      mean       std  week\n",
       "0         1.052706  1.052706  0.000000     1\n",
       "1         0.944109  1.186743  0.094779     2\n",
       "2         1.036056  1.200262  0.064143     3\n",
       "3         1.090331  1.229406  0.054326     4\n",
       "4         1.106778  1.220072  0.044256     5\n",
       "5         1.092682  1.199079  0.041561     6\n",
       "6         1.079251  1.180512  0.039555     7\n",
       "7         1.081827  1.172489  0.035415     8\n",
       "8         1.083864  1.165973  0.032074     9\n",
       "9         1.072188  1.152756  0.031472    10\n",
       "10        1.083826  1.158316  0.029098    11\n",
       "11        1.091312  1.159676  0.026705    12"
      ]
     },
     "execution_count": 278,
     "metadata": {},
     "output_type": "execute_result"
    }
   ],
   "source": [
    "std = []\n",
    "mean = []\n",
    "week = []\n",
    "lower = []\n",
    "for i in range(1,len(time_exp)):\n",
    "    std.append(np.std(time_exp['rev_inc_norm'][:i])/(i**0.5))\n",
    "    mean.append(np.mean(time_exp['rev_inc_norm'][:i]))\n",
    "    week.append(i)\n",
    "    lower.append(mean[i-1]-2.56*std[i-1]) # 99% confidence interval\n",
    "time_eff = pd.DataFrame({'week':week,'mean':mean,'std':std,'lower_interval':lower})\n",
    "time_eff\n",
    "# Starting from week 3, the stats are significant to indicate the price increase do result in a increased revenue."
   ]
  },
  {
   "cell_type": "code",
   "execution_count": null,
   "metadata": {
    "collapsed": true
   },
   "outputs": [],
   "source": []
  }
 ],
 "metadata": {
  "anaconda-cloud": {},
  "kernelspec": {
   "display_name": "Python [Root]",
   "language": "python",
   "name": "Python [Root]"
  },
  "language_info": {
   "codemirror_mode": {
    "name": "ipython",
    "version": 2
   },
   "file_extension": ".py",
   "mimetype": "text/x-python",
   "name": "python",
   "nbconvert_exporter": "python",
   "pygments_lexer": "ipython2",
   "version": "2.7.12"
  }
 },
 "nbformat": 4,
 "nbformat_minor": 0
}
